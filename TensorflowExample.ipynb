{
 "cells": [
  {
   "cell_type": "code",
   "execution_count": 2,
   "metadata": {
    "collapsed": false
   },
   "outputs": [
    {
     "name": "stdout",
     "output_type": "stream",
     "text": [
      "(0, array([ 0.25230634], dtype=float32), array([ 1.82768095], dtype=float32))\n",
      "(20, array([ 1.48797381], dtype=float32), array([ 0.58428246], dtype=float32))\n",
      "(40, array([ 1.86787236], dtype=float32), array([ 0.37335873], dtype=float32))\n",
      "(60, array([ 1.96590471], dtype=float32), array([ 0.31893012], dtype=float32))\n",
      "(80, array([ 1.99120176], dtype=float32), array([ 0.30488491], dtype=float32))\n",
      "(100, array([ 1.99772966], dtype=float32), array([ 0.30126056], dtype=float32))\n",
      "(120, array([ 1.99941409], dtype=float32), array([ 0.3003253], dtype=float32))\n",
      "(140, array([ 1.99984884], dtype=float32), array([ 0.30008397], dtype=float32))\n",
      "(160, array([ 1.9999609], dtype=float32), array([ 0.30002171], dtype=float32))\n",
      "(180, array([ 1.99998987], dtype=float32), array([ 0.30000564], dtype=float32))\n",
      "(200, array([ 1.99999738], dtype=float32), array([ 0.30000144], dtype=float32))\n"
     ]
    }
   ],
   "source": [
    "import tensorflow as tf\n",
    "import numpy as np\n",
    "\n",
    "# Create 100 phony x, y data points in NumPy, y = x * 0.1 + 0.3\n",
    "x_data = np.random.rand(100).astype(np.float32)\n",
    "y_data = x_data * 2 + 0.3\n",
    "\n",
    "# Try to find values for W and b that compute y_data = W * x_data + b\n",
    "# (We know that W should be 0.1 and b 0.3, but Tensorflow will\n",
    "# figure that out for us.)\n",
    "W = tf.Variable(tf.random_uniform([1], -1.0, 1.0))\n",
    "b = tf.Variable(tf.zeros([1]))\n",
    "y = W * x_data + b\n",
    "\n",
    "# Minimize the mean squared errors.\n",
    "loss = tf.reduce_mean(tf.square(y - y_data))\n",
    "optimizer = tf.train.GradientDescentOptimizer(0.5)\n",
    "train = optimizer.minimize(loss)\n",
    "\n",
    "# Before starting, initialize the variables.  We will 'run' this first.\n",
    "init = tf.initialize_all_variables()\n",
    "\n",
    "# Launch the graph.\n",
    "sess = tf.Session()\n",
    "sess.run(init)\n",
    "\n",
    "# Fit the line.\n",
    "for step in xrange(201):\n",
    "    sess.run(train)\n",
    "    if step % 20 == 0:\n",
    "        print(step, sess.run(W), sess.run(b))\n",
    "\n",
    "# Learns best fit is W: [0.1], b: [0.3]"
   ]
  },
  {
   "cell_type": "code",
   "execution_count": null,
   "metadata": {
    "collapsed": true
   },
   "outputs": [],
   "source": []
  }
 ],
 "metadata": {
  "kernelspec": {
   "display_name": "Python 2",
   "language": "python",
   "name": "python2"
  },
  "language_info": {
   "codemirror_mode": {
    "name": "ipython",
    "version": 2
   },
   "file_extension": ".py",
   "mimetype": "text/x-python",
   "name": "python",
   "nbconvert_exporter": "python",
   "pygments_lexer": "ipython2",
   "version": "2.7.6"
  }
 },
 "nbformat": 4,
 "nbformat_minor": 0
}
