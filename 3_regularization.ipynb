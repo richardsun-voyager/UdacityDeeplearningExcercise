{
 "cells": [
  {
   "cell_type": "markdown",
   "metadata": {},
   "source": [
    "# Deep Learning\n",
    "\n",
    "# Assignment 3\n",
    "\n",
    "Previously in 2_fullyconnected.ipynb, you trained a logistic regression and a neural network model.\n",
    "The goal of this assignment is to explore regularization techniques."
   ]
  },
  {
   "cell_type": "code",
   "execution_count": 62,
   "metadata": {
    "collapsed": true
   },
   "outputs": [],
   "source": [
    "# These are all the modules we'll be using later. Make sure you can import them\n",
    "# before proceeding further.\n",
    "from __future__ import print_function\n",
    "import numpy as np\n",
    "import tensorflow as tf\n",
    "from six.moves import cPickle as pickle"
   ]
  },
  {
   "cell_type": "markdown",
   "metadata": {},
   "source": [
    "First reload the data we generated in notmist.ipynb."
   ]
  },
  {
   "cell_type": "code",
   "execution_count": 63,
   "metadata": {
    "collapsed": false
   },
   "outputs": [
    {
     "name": "stdout",
     "output_type": "stream",
     "text": [
      "Training set (20000, 28, 28) (20000,)\n",
      "Validation set (1000, 28, 28) (1000,)\n",
      "Test set (1000, 28, 28) (1000,)\n"
     ]
    }
   ],
   "source": [
    "pickle_file = 'notMNIST.pickle'\n",
    "\n",
    "with open(pickle_file, 'rb') as f:\n",
    "  save = pickle.load(f)\n",
    "  train_dataset = save['train_dataset']\n",
    "  train_labels = save['train_labels']\n",
    "  valid_dataset = save['valid_dataset']\n",
    "  valid_labels = save['valid_labels']\n",
    "  test_dataset = save['test_dataset']\n",
    "  test_labels = save['test_labels']\n",
    "  del save  # hint to help gc free up memory\n",
    "  print('Training set', train_dataset.shape, train_labels.shape)\n",
    "  print('Validation set', valid_dataset.shape, valid_labels.shape)\n",
    "  print('Test set', test_dataset.shape, test_labels.shape)"
   ]
  },
  {
   "cell_type": "markdown",
   "metadata": {},
   "source": [
    "Reformat into a shape that's more adapted to the models we're going to train:\n",
    "- data as a flat matrix,\n",
    "- labels as float 1-hot encodings."
   ]
  },
  {
   "cell_type": "code",
   "execution_count": 64,
   "metadata": {
    "collapsed": false
   },
   "outputs": [
    {
     "name": "stdout",
     "output_type": "stream",
     "text": [
      "Training set (20000, 784) (20000, 10)\n",
      "Validation set (1000, 784) (1000, 10)\n",
      "Test set (1000, 784) (1000, 10)\n"
     ]
    }
   ],
   "source": [
    "image_size = 28\n",
    "num_labels = 10\n",
    "\n",
    "def reformat(dataset, labels):\n",
    "  dataset = dataset.reshape((-1, image_size * image_size)).astype(np.float32)\n",
    "  # Map 2 to [0.0, 1.0, 0.0 ...], 3 to [0.0, 0.0, 1.0 ...]\n",
    "  labels = (np.arange(num_labels) == labels[:,None]).astype(np.float32)\n",
    "  return dataset, labels\n",
    "train_dataset_reshaped, train_labels_reshaped = reformat(train_dataset, train_labels)\n",
    "valid_dataset_reshaped, valid_labels_reshaped = reformat(valid_dataset, valid_labels)\n",
    "test_dataset_reshaped, test_labels_reshaped = reformat(test_dataset, test_labels)\n",
    "print('Training set', train_dataset_reshaped.shape, train_labels_reshaped.shape)\n",
    "print('Validation set', valid_dataset_reshaped.shape, valid_labels_reshaped.shape)\n",
    "print('Test set', test_dataset_reshaped.shape, test_labels_reshaped.shape)"
   ]
  },
  {
   "cell_type": "code",
   "execution_count": 65,
   "metadata": {
    "collapsed": true
   },
   "outputs": [],
   "source": [
    "def accuracy(predictions, labels):\n",
    "  return (100.0 * np.sum(np.argmax(predictions, 1) == np.argmax(labels, 1))\n",
    "          / predictions.shape[0])"
   ]
  },
  {
   "cell_type": "markdown",
   "metadata": {},
   "source": [
    "## Problem 1\n",
    "Introduce and tune L2 regularization for both logistic and neural network models. Remember that L2 amounts to adding a penalty on the norm of the weights to the loss. In TensorFlow, you can compute the L2 loss for a tensor t using nn.l2_loss(t). The right amount of regularization should improve your validation / test accuracy."
   ]
  },
  {
   "cell_type": "markdown",
   "metadata": {},
   "source": [
    "### Logistic Model"
   ]
  },
  {
   "cell_type": "code",
   "execution_count": 8,
   "metadata": {
    "collapsed": false
   },
   "outputs": [
    {
     "data": {
      "text/plain": [
       "LogisticRegression(C=1.0, class_weight=None, dual=False, fit_intercept=True,\n",
       "          intercept_scaling=1, max_iter=100, multi_class='ovr', n_jobs=1,\n",
       "          penalty='l2', random_state=11, solver='liblinear', tol=0.0001,\n",
       "          verbose=0, warm_start=False)"
      ]
     },
     "execution_count": 8,
     "metadata": {},
     "output_type": "execute_result"
    }
   ],
   "source": [
    "from sklearn.linear_model import LogisticRegression\n",
    "logisticRegression = LogisticRegression(penalty='l2',random_state=11)\n",
    "logisticRegression.fit(train_dataset_reshaped, train_labels)"
   ]
  },
  {
   "cell_type": "code",
   "execution_count": 9,
   "metadata": {
    "collapsed": false
   },
   "outputs": [
    {
     "data": {
      "text/plain": [
       "0.81599999999999995"
      ]
     },
     "execution_count": 9,
     "metadata": {},
     "output_type": "execute_result"
    }
   ],
   "source": [
    "valid_preds = logisticRegression.predict(valid_dataset_reshaped)\n",
    "np.mean(valid_preds == valid_labels)"
   ]
  },
  {
   "cell_type": "code",
   "execution_count": 10,
   "metadata": {
    "collapsed": false
   },
   "outputs": [
    {
     "data": {
      "text/plain": [
       "0.88500000000000001"
      ]
     },
     "execution_count": 10,
     "metadata": {},
     "output_type": "execute_result"
    }
   ],
   "source": [
    "test_preds = logisticRegression.predict(test_dataset_reshaped)\n",
    "np.mean(test_preds == test_labels)"
   ]
  },
  {
   "cell_type": "markdown",
   "metadata": {},
   "source": [
    "### Neural Network Model"
   ]
  },
  {
   "cell_type": "code",
   "execution_count": 54,
   "metadata": {
    "collapsed": false
   },
   "outputs": [],
   "source": [
    "batch_size = 128\n",
    "hidden1_units = 1024#One hidden layer here\n",
    "graph = tf.Graph()\n",
    "with graph.as_default():\n",
    "\n",
    "  # Input data. For the training data, we use a placeholder that will be fed\n",
    "  # at run time with a training minibatch.\n",
    "  tf_train_dataset = tf.placeholder(tf.float32,\n",
    "                                    shape=(batch_size, image_size * image_size))\n",
    "  tf_train_labels = tf.placeholder(tf.float32, shape=(batch_size, num_labels))\n",
    "  tf_valid_dataset = tf.constant(valid_dataset_reshaped)\n",
    "  tf_test_dataset = tf.constant(test_dataset_reshaped)\n",
    "  \n",
    "  # Variables in hidden layer.\n",
    "  weights_1 = tf.Variable(\n",
    "    tf.truncated_normal([image_size * image_size, hidden1_units]))\n",
    "  biases_1 = tf.Variable(tf.zeros([hidden1_units]))\n",
    "  \n",
    "  # Training computation.\n",
    "  logits1= tf.matmul(tf_train_dataset, weights_1) + biases_1\n",
    "  hidden1 = tf.nn.relu(logits1)\n",
    "  \n",
    "  #Variables in output layer\n",
    "  weights_2 = tf.Variable(\n",
    "    tf.truncated_normal([hidden1_units, num_labels]))\n",
    "  biases_2 = tf.Variable(tf.zeros([num_labels]))\n",
    "\n",
    "  logits2 = tf.matmul(hidden1, weights_2) + biases_2\n",
    "\n",
    " #Regularization\n",
    "  l2_loss = tf.nn.l2_loss(weights_1) + tf.nn.l2_loss(weights_2)    \n",
    "    \n",
    "  #Loss function  \n",
    "  loss = tf.reduce_mean(\n",
    "    tf.nn.softmax_cross_entropy_with_logits(logits2, tf_train_labels)) + 0.000001 * l2_loss  \n",
    "  # = tf.reduce_mean(\n",
    "    #tf.nn.softmax_cross_entropy_with_logits(logits2, tf_train_labels))\n",
    "  \n",
    "  # Optimizer.\n",
    "  optimizer = tf.train.GradientDescentOptimizer(0.5).minimize(loss)\n",
    "  \n",
    "  # Predictions for the training\n",
    "  train_prediction = tf.nn.softmax(logits2)\n",
    "\n",
    "  #Predictions for the validation\n",
    "  logits1= tf.matmul(tf_valid_dataset, weights_1) + biases_1\n",
    "  hidden1 = tf.nn.relu(logits1)\n",
    "  valid_prediction = tf.nn.softmax(\n",
    "    tf.matmul(hidden1, weights_2) + biases_2)\n",
    "    \n",
    "  #Predictions for the testing \n",
    "  logits1= tf.matmul(tf_test_dataset, weights_1) + biases_1\n",
    "  hidden1 = tf.nn.relu(logits1)\n",
    "  test_prediction = tf.nn.softmax(tf.matmul(hidden1, weights_2) + biases_2)"
   ]
  },
  {
   "cell_type": "code",
   "execution_count": 56,
   "metadata": {
    "collapsed": false
   },
   "outputs": [
    {
     "name": "stdout",
     "output_type": "stream",
     "text": [
      "Initialized\n",
      "Minibatch loss at step 0: 341.034119\n",
      "Minibatch accuracy: 9.4%\n",
      "Validation accuracy: 34.2%\n",
      "Minibatch loss at step 500: 21.159004\n",
      "Minibatch accuracy: 78.9%\n",
      "Validation accuracy: 80.2%\n",
      "Minibatch loss at step 1000: 2.226162\n",
      "Minibatch accuracy: 95.3%\n",
      "Validation accuracy: 80.9%\n",
      "Minibatch loss at step 1500: 14.392435\n",
      "Minibatch accuracy: 96.1%\n",
      "Validation accuracy: 81.9%\n",
      "Minibatch loss at step 2000: 1.800854\n",
      "Minibatch accuracy: 95.3%\n",
      "Validation accuracy: 82.7%\n",
      "Minibatch loss at step 2500: 0.426485\n",
      "Minibatch accuracy: 98.4%\n",
      "Validation accuracy: 82.4%\n",
      "Minibatch loss at step 3000: 0.807494\n",
      "Minibatch accuracy: 96.1%\n",
      "Validation accuracy: 82.4%\n",
      "Test accuracy: 91.2%\n"
     ]
    }
   ],
   "source": [
    "num_steps = 3001\n",
    "\n",
    "with tf.Session(graph=graph) as session:\n",
    "  tf.initialize_all_variables().run()\n",
    "  print(\"Initialized\")\n",
    "  for step in range(num_steps):\n",
    "    # Pick an offset within the training data, which has been randomized.\n",
    "    # Note: we could use better randomization across epochs.\n",
    "    offset = (step * batch_size) % (train_labels_reshaped.shape[0] - batch_size)\n",
    "    # Generate a minibatch.\n",
    "    batch_data = train_dataset_reshaped[offset:(offset + batch_size), :]\n",
    "    batch_labels = train_labels_reshaped[offset:(offset + batch_size), :]\n",
    "    # Prepare a dictionary telling the session where to feed the minibatch.\n",
    "    # The key of the dictionary is the placeholder node of the graph to be fed,\n",
    "    # and the value is the numpy array to feed to it.\n",
    "    feed_dict = {tf_train_dataset : batch_data, tf_train_labels : batch_labels}\n",
    "    _, l, predictions = session.run(\n",
    "      [optimizer, loss, train_prediction], feed_dict=feed_dict)\n",
    "    if (step % 500 == 0):\n",
    "      print(\"Minibatch loss at step %d: %f\" % (step, l))\n",
    "      print(\"Minibatch accuracy: %.1f%%\" % accuracy(predictions, batch_labels))\n",
    "      print(\"Validation accuracy: %.1f%%\" % accuracy(\n",
    "        valid_prediction.eval(), valid_labels_reshaped))\n",
    "  print(\"Test accuracy: %.1f%%\" % accuracy(test_prediction.eval(), test_labels_reshaped))"
   ]
  },
  {
   "cell_type": "markdown",
   "metadata": {},
   "source": [
    "## Problem 2\n",
    "Let's demonstrate an extreme case of overfitting. Restrict your training data to just a few batches. What happens?"
   ]
  },
  {
   "cell_type": "code",
   "execution_count": 85,
   "metadata": {
    "collapsed": false
   },
   "outputs": [],
   "source": [
    "batch_size = 4096\n",
    "with graph.as_default():\n",
    "  # Input data. For the training data, we use a placeholder that will be fed\n",
    "  # at run time with a training minibatch.\n",
    "  tf_train_dataset = tf.placeholder(tf.float32,\n",
    "                                    shape=(batch_size, image_size * image_size))\n",
    "  tf_train_labels = tf.placeholder(tf.float32, shape=(batch_size, num_labels))\n",
    "  tf_valid_dataset = tf.constant(valid_dataset_reshaped)\n",
    "  tf_test_dataset = tf.constant(test_dataset_reshaped)\n",
    "    # Variables in hidden layer.\n",
    "  weights_1 = tf.Variable(\n",
    "    tf.truncated_normal([image_size * image_size, hidden1_units]))\n",
    "  biases_1 = tf.Variable(tf.zeros([hidden1_units]))\n",
    "  \n",
    "  # Training computation.\n",
    "  logits1= tf.matmul(tf_train_dataset, weights_1) + biases_1\n",
    "  hidden1 = tf.nn.relu(logits1)\n",
    "  \n",
    "  #Variables in output layer\n",
    "  weights_2 = tf.Variable(\n",
    "    tf.truncated_normal([hidden1_units, num_labels]))\n",
    "  biases_2 = tf.Variable(tf.zeros([num_labels]))\n",
    "\n",
    "  logits2 = tf.matmul(hidden1, weights_2) + biases_2\n",
    "\n",
    " #Regularization\n",
    "  l2_loss = tf.nn.l2_loss(weights_1) + tf.nn.l2_loss(weights_2)    \n",
    "    \n",
    "  #Loss function  \n",
    "  loss = tf.reduce_mean(\n",
    "    tf.nn.softmax_cross_entropy_with_logits(logits2, tf_train_labels)) + 0.000001 * l2_loss  \n",
    "  # = tf.reduce_mean(\n",
    "    #tf.nn.softmax_cross_entropy_with_logits(logits2, tf_train_labels))\n",
    "  \n",
    "  # Optimizer.\n",
    "  optimizer = tf.train.GradientDescentOptimizer(0.5).minimize(loss)\n",
    "  \n",
    "  # Predictions for the training\n",
    "  train_prediction = tf.nn.softmax(logits2)\n",
    "\n",
    "  #Predictions for the validation\n",
    "  logits1= tf.matmul(tf_valid_dataset, weights_1) + biases_1\n",
    "  hidden1 = tf.nn.relu(logits1)\n",
    "  valid_prediction = tf.nn.softmax(\n",
    "    tf.matmul(hidden1, weights_2) + biases_2)\n",
    "    \n",
    "  #Predictions for the testing \n",
    "  logits1= tf.matmul(tf_test_dataset, weights_1) + biases_1\n",
    "  hidden1 = tf.nn.relu(logits1)\n",
    "  test_prediction = tf.nn.softmax(tf.matmul(hidden1, weights_2) + biases_2)"
   ]
  },
  {
   "cell_type": "code",
   "execution_count": 86,
   "metadata": {
    "collapsed": false
   },
   "outputs": [
    {
     "name": "stdout",
     "output_type": "stream",
     "text": [
      "Initialized\n",
      "Minibatch loss at step 0: 315.270691\n",
      "Minibatch accuracy: 10.5%\n",
      "Validation accuracy: 47.0%\n",
      "Minibatch loss at step 500: 0.452890\n",
      "Minibatch accuracy: 99.3%\n",
      "Validation accuracy: 80.3%\n",
      "Minibatch loss at step 1000: 0.330083\n",
      "Minibatch accuracy: 99.7%\n",
      "Validation accuracy: 80.8%\n",
      "Minibatch loss at step 1500: 0.472208\n",
      "Minibatch accuracy: 99.5%\n",
      "Validation accuracy: 81.0%\n",
      "Minibatch loss at step 2000: 0.346026\n",
      "Minibatch accuracy: 99.9%\n",
      "Validation accuracy: 81.1%\n",
      "Minibatch loss at step 2500: 0.365123\n",
      "Minibatch accuracy: 99.8%\n",
      "Validation accuracy: 81.3%\n",
      "Minibatch loss at step 3000: 0.334400\n",
      "Minibatch accuracy: 99.8%\n",
      "Validation accuracy: 80.8%\n",
      "Test accuracy: 87.5%\n"
     ]
    }
   ],
   "source": [
    "num_steps = 3001\n",
    "with tf.Session(graph=graph) as session:\n",
    "  tf.initialize_all_variables().run()\n",
    "  print(\"Initialized\")\n",
    "  for step in range(num_steps):\n",
    "    # Pick an offset w  ithin the training data, which has been randomized.\n",
    "    # Note: we could use better randomization across epochs.\n",
    "    offset = (step * batch_size) % (train_labels_reshaped.shape[0] - batch_size)\n",
    "    # Generate a minibatch.\n",
    "    batch_data = train_dataset_reshaped[offset:(offset + batch_size), :]\n",
    "    batch_labels = train_labels_reshaped[offset:(offset + batch_size), :]\n",
    "    # Prepare a dictionary telling the session where to feed the minibatch.\n",
    "    # The key of the dictionary is the placeholder node of the graph to be fed,\n",
    "    # and the value is the numpy array to feed to it.\n",
    "    feed_dict = {tf_train_dataset : batch_data, tf_train_labels : batch_labels}\n",
    "    _, l, predictions = session.run(\n",
    "      [optimizer, loss, train_prediction], feed_dict=feed_dict)\n",
    "    if (step % 500 == 0):\n",
    "      print(\"Minibatch loss at step %d: %f\" % (step, l))\n",
    "      print(\"Minibatch accuracy: %.1f%%\" % accuracy(predictions, batch_labels))\n",
    "      print(\"Validation accuracy: %.1f%%\" % accuracy(\n",
    "        valid_prediction.eval(), valid_labels_reshaped))\n",
    "  print(\"Test accuracy: %.1f%%\" % accuracy(test_prediction.eval(), test_labels_reshaped))"
   ]
  },
  {
   "cell_type": "markdown",
   "metadata": {},
   "source": [
    "The training accuracy reached 99% quickly, but the validation accuracy was much below, around 81%. Overfitting happened in this case."
   ]
  },
  {
   "cell_type": "markdown",
   "metadata": {},
   "source": [
    "## Problem 3\n",
    "Introduce Dropout on the hidden layer of the neural network. Remember: Dropout should only be introduced during training, not evaluation, otherwise your evaluation results would be stochastic as well. TensorFlow provides nn.dropout() for that, but you have to make sure it's only inserted during training.\n",
    "What happens to our extreme overfitting case?"
   ]
  },
  {
   "cell_type": "code",
   "execution_count": 66,
   "metadata": {
    "collapsed": false
   },
   "outputs": [],
   "source": [
    "def createPlaceholder(shape=None):\n",
    "    return tf.placeholder(tf.float32, shape)\n",
    "\n",
    "def createWeights(size=None):\n",
    "    return tf.Variable(tf.truncated_normal(size))\n",
    "\n",
    "def createBiases(size=None):\n",
    "    return tf.Variable(tf.zeros(size))  "
   ]
  },
  {
   "cell_type": "code",
   "execution_count": 82,
   "metadata": {
    "collapsed": false
   },
   "outputs": [],
   "source": [
    "batch_size = 4096\n",
    "hidden1_units = 1024\n",
    "graph = tf.Graph()\n",
    "with graph.as_default():\n",
    "  # Input data. For the training data, we use a placeholder that will be fed\n",
    "  tf_train_dataset = createPlaceholder((batch_size, image_size * image_size))\n",
    "  tf_train_labels = createPlaceholder((batch_size, num_labels))\n",
    "  tf_valid_dataset = tf.constant(valid_dataset_reshaped)\n",
    "  tf_test_dataset = tf.constant(test_dataset_reshaped)\n",
    "  #Dropout\n",
    "  p_keep_input = tf.placeholder(\"float32\")\n",
    "  tf_train_dataset = tf.nn.dropout(tf_train_dataset, p_keep_input)\n",
    "    \n",
    "  # Variables in hidden layer.\n",
    "  weights_1 = createWeights([image_size * image_size, hidden1_units])\n",
    "  biases_1 = createBiases([hidden1_units])\n",
    "  \n",
    "  # Training computation.\n",
    "  logits1= tf.matmul(tf_train_dataset, weights_1) + biases_1\n",
    "  hidden1 = tf.nn.relu(logits1)\n",
    "  p_hidden_input = tf.placeholder(\"float32\")\n",
    "  hidden1 = tf.nn.dropout(hidden1, p_hidden_input)\n",
    "  \n",
    "  #Variables in output layer\n",
    "  weights_2 = createWeights([hidden1_units, num_labels])\n",
    "  biases_2 = createBiases([num_labels])\n",
    "\n",
    "  logits2 = tf.matmul(hidden1, weights_2) + biases_2\n",
    "\n",
    " #Regularization\n",
    "  #l2_loss = tf.nn.l2_loss(weights_1) + tf.nn.l2_loss(weights_2)    \n",
    "    \n",
    "  #Loss function  \n",
    "  loss = tf.reduce_mean(\n",
    "    tf.nn.softmax_cross_entropy_with_logits(logits2, tf_train_labels))\n",
    "  \n",
    "  # Optimizer.\n",
    "  optimizer = tf.train.GradientDescentOptimizer(0.5).minimize(loss)\n",
    "  \n",
    "  # Predictions for the training\n",
    "  train_prediction = tf.nn.softmax(logits2)\n",
    "\n",
    "  #Predictions for the validation\n",
    "  logits1= tf.matmul(tf_valid_dataset, weights_1) + biases_1\n",
    "  hidden1 = tf.nn.relu(logits1)\n",
    "  valid_prediction = tf.nn.softmax(\n",
    "    tf.matmul(hidden1, weights_2) + biases_2)\n",
    "    \n",
    "  #Predictions for the testing \n",
    "  logits1= tf.matmul(tf_test_dataset, weights_1) + biases_1\n",
    "  hidden1 = tf.nn.relu(logits1)\n",
    "  test_prediction = tf.nn.softmax(tf.matmul(hidden1, weights_2) + biases_2)"
   ]
  },
  {
   "cell_type": "code",
   "execution_count": 84,
   "metadata": {
    "collapsed": false
   },
   "outputs": [
    {
     "name": "stdout",
     "output_type": "stream",
     "text": [
      "Initialized\n",
      "Minibatch loss at step 0: 516.192627\n",
      "Minibatch accuracy: 9.1%\n",
      "Validation accuracy: 41.0%\n",
      "Minibatch loss at step 500: 4.053629\n",
      "Minibatch accuracy: 86.3%\n",
      "Validation accuracy: 84.1%\n",
      "Minibatch loss at step 1000: 2.274678\n",
      "Minibatch accuracy: 88.0%\n",
      "Validation accuracy: 82.7%\n",
      "Minibatch loss at step 1500: 1.616617\n",
      "Minibatch accuracy: 89.8%\n",
      "Validation accuracy: 83.5%\n",
      "Minibatch loss at step 2000: 1.281771\n",
      "Minibatch accuracy: 90.5%\n",
      "Validation accuracy: 84.6%\n",
      "Minibatch loss at step 2500: 0.814181\n",
      "Minibatch accuracy: 90.9%\n",
      "Validation accuracy: 84.7%\n",
      "Minibatch loss at step 3000: 0.464619\n",
      "Minibatch accuracy: 92.5%\n",
      "Validation accuracy: 84.4%\n",
      "Test accuracy: 92.1%\n"
     ]
    }
   ],
   "source": [
    "num_steps = 3001\n",
    "with tf.Session(graph=graph) as session:\n",
    "  tf.initialize_all_variables().run()\n",
    "  print(\"Initialized\")\n",
    "  for step in range(num_steps):\n",
    "    # Pick an offset w  ithin the training data, which has been randomized.\n",
    "    offset = (step * batch_size) % (train_labels_reshaped.shape[0] - batch_size)\n",
    "    # Generate a minibatch.\n",
    "    batch_data = train_dataset_reshaped[offset:(offset + batch_size), :]\n",
    "    batch_labels = train_labels_reshaped[offset:(offset + batch_size), :]\n",
    "    # Prepare a dictionary telling the session where to feed the minibatch.\n",
    "    feed_dict = {tf_train_dataset : batch_data, tf_train_labels : batch_labels, p_keep_input: 0.8, p_hidden_input: 0.5}\n",
    "    _, l, predictions = session.run(\n",
    "      [optimizer, loss, train_prediction], feed_dict=feed_dict)\n",
    "    if (step % 500 == 0):\n",
    "      print(\"Minibatch loss at step %d: %f\" % (step, l))\n",
    "      print(\"Minibatch accuracy: %.1f%%\" % accuracy(predictions, batch_labels))\n",
    "      print(\"Validation accuracy: %.1f%%\" % accuracy(\n",
    "        valid_prediction.eval(), valid_labels_reshaped))\n",
    "  print(\"Test accuracy: %.1f%%\" % accuracy(test_prediction.eval(), test_labels_reshaped))"
   ]
  },
  {
   "cell_type": "markdown",
   "metadata": {},
   "source": [
    "In this case, the training accuracy increased gradually, along with the validation accuracy. Overfitting was less serious here."
   ]
  },
  {
   "cell_type": "markdown",
   "metadata": {},
   "source": [
    "## Problem 4\n",
    "Try to get the best performance you can using a multi-layer model! The best reported test accuracy using a deep network is 97.1%.\n",
    "One avenue you can explore is to add multiple layers."
   ]
  },
  {
   "cell_type": "code",
   "execution_count": 87,
   "metadata": {
    "collapsed": true
   },
   "outputs": [],
   "source": [
    "def tf_deep_nn(regular=False, drop_out=False, lrd=False, hidden_layer_cnt=0):\n",
    "    batch_size = 128\n",
    "    hidden_node_count = 1024\n",
    "    graph = tf.Graph()\n",
    "    with graph.as_default():\n",
    "        tf_train_dataset = createPlaceholder((batch_size, image_size * image_size))\n",
    "        tf_train_labels = createPlaceholder((batch_size, num_labels))\n",
    "        tf_valid_dataset = tf.constant(valid_dataset_reshaped)\n",
    "        tf_test_dataset = tf.constant(test_dataset_reshaped)\n",
    "        \n",
    "        # start weight\n",
    "        hidden_stddev = np.sqrt(2.0 / 784)\n",
    "        weights_start = tf.Variable(tf.truncated_normal([image_size * image_size, hidden_node_count], stddev=hidden_stddev))\n",
    "        biases_start = tf.Variable(tf.zeros([hidden_node_count]))\n",
    "        # hidden layer weight\n",
    "        weights = []\n",
    "        biases = []\n",
    "        hidden_cur_cnt = hidden_node_count\n",
    "        for i in range(hidden_layer_cnt):\n",
    "            if hidden_cur_cnt > 2:\n",
    "                hidden_next_cnt = int(hidden_cur_cnt / 2)\n",
    "            else:\n",
    "                hidden_next_cnt = 2\n",
    "            #Create weights and weights for each hidden layer\n",
    "            hidden_stddev = np.sqrt(2.0 / hidden_cur_cnt)\n",
    "            weights_hidden_layer = tf.Variable(tf.truncated_normal([hidden_cur_cnt, hidden_next_cnt], stddev=hidden_stddev))\n",
    "            weights.append(weights_hidden_layer)\n",
    "            bias_hidden_layer = tf.Variable(tf.zeros([hidden_next_cnt]))\n",
    "            biases.append(bias_hidden_layer)\n",
    "            hidden_cur_cnt = hidden_next_cnt\n",
    "        # first wx + b\n",
    "        y0 = tf.matmul(tf_train_dataset, weights_start) + biases_start\n",
    "        # first relu\n",
    "        hidden = tf.nn.relu(y0)\n",
    "        hidden_drop = hidden\n",
    "        # first DropOut\n",
    "        keep_prob = 0.5\n",
    "        if drop_out:\n",
    "            hidden_drop = tf.nn.dropout(hidden, keep_prob)\n",
    "        # first wx+b for valid\n",
    "        valid_y0 = tf.matmul(tf_valid_dataset, weights_start) + biases_start\n",
    "        valid_hidden = tf.nn.relu(valid_y0)\n",
    "        # first wx+b for test\n",
    "        test_y0 = tf.matmul(tf_test_dataset, weights_start) + biases_start\n",
    "        test_hidden = tf.nn.relu(test_y0)\n",
    "\n",
    "        # Calculate output for each hidden layer\n",
    "        for i in range(hidden_layer_cnt):\n",
    "            y1 = tf.matmul(hidden_drop, weights[i]) + biases[i]\n",
    "            hidden_drop = tf.nn.relu(y1)\n",
    "            if drop_out:\n",
    "                keep_prob += 0.5 * i / (layer_cnt + 1)\n",
    "                hidden_drop = tf.nn.dropout(hidden_drop, keep_prob)\n",
    "\n",
    "            y0 = tf.matmul(hidden, weights[i]) + biases[i]\n",
    "            hidden = tf.nn.relu(y0)\n",
    "\n",
    "            valid_y0 = tf.matmul(valid_hidden, weights[i]) + biases[i]\n",
    "            valid_hidden = tf.nn.relu(valid_y0)\n",
    "\n",
    "            test_y0 = tf.matmul(test_hidden, weights[i]) + biases[i]\n",
    "            test_hidden = tf.nn.relu(test_y0)\n",
    "\n",
    "        # final weight\n",
    "        weights_end = tf.Variable(tf.truncated_normal([hidden_cur_cnt, num_labels], stddev=hidden_stddev / 2))\n",
    "        biases_end = tf.Variable(tf.zeros([num_labels]))\n",
    "        # last wx + b\n",
    "        logits = tf.matmul(hidden_drop, weights_end) + biases_end\n",
    "\n",
    "        # predicts\n",
    "        logits_predict = tf.matmul(hidden, weights_end) + biases_end\n",
    "        valid_predict = tf.matmul(valid_hidden, weights_end) + biases_end\n",
    "        test_predict = tf.matmul(test_hidden, weights_end) + biases_end\n",
    "\n",
    "        l2_loss = 0\n",
    "        # enable regularization\n",
    "        if regular:\n",
    "            l2_loss = tf.nn.l2_loss(weights_start) + tf.nn.l2_loss(weights_end)\n",
    "            for i in range(len(weights)):\n",
    "                l2_loss += tf.nn.l2_loss(weights[i])\n",
    "                # l2_loss += tf.nn.l2_loss(biases[i])\n",
    "            beta = 0.25 / batch_size\n",
    "            beta = 1e-5\n",
    "            l2_loss *= beta\n",
    "        loss = tf.reduce_mean(tf.nn.softmax_cross_entropy_with_logits(logits, tf_train_labels)) + l2_loss\n",
    "\n",
    "        # Optimizer.\n",
    "        if lrd:\n",
    "            cur_step = tf.Variable(0, trainable=False)  # count the number of steps taken.\n",
    "            starter_learning_rate = 0.4\n",
    "            learning_rate = tf.train.exponential_decay(starter_learning_rate, cur_step, 100000, 0.96, staircase=True)\n",
    "            optimizer = tf.train.GradientDescentOptimizer(learning_rate).minimize(loss, global_step=cur_step)\n",
    "        else:\n",
    "            optimizer = tf.train.GradientDescentOptimizer(0.5).minimize(loss)\n",
    "\n",
    "        # Predictions for the training, validation, and test data.\n",
    "        train_prediction = tf.nn.softmax(logits_predict)\n",
    "        valid_prediction = tf.nn.softmax(valid_predict)\n",
    "        test_prediction = tf.nn.softmax(test_predict)\n",
    "\n",
    "    num_steps = 20001\n",
    "\n",
    "    with tf.Session(graph=graph) as session:\n",
    "        tf.initialize_all_variables().run()\n",
    "        print(\"Initialized\")\n",
    "        for step in range(num_steps):\n",
    "             # Pick an offset w  ithin the training data, which has been randomized.\n",
    "            offset = (step * batch_size) % (train_labels_reshaped.shape[0] - batch_size)\n",
    "            # Generate a minibatch.\n",
    "            batch_data = train_dataset_reshaped[offset:(offset + batch_size), :]\n",
    "            batch_labels = train_labels_reshaped[offset:(offset + batch_size), :]\n",
    "            feed_dict = {tf_train_dataset: batch_data, tf_train_labels: batch_labels}\n",
    "            _, l, predictions = session.run(\n",
    "                [optimizer, loss, train_prediction], feed_dict=feed_dict)\n",
    "            if step % 500 == 0:\n",
    "                print(\"Minibatch loss at step %d: %f\" % (step, l))\n",
    "                print(\"Minibatch accuracy: %.1f%%\" % accuracy(predictions, batch_labels))\n",
    "                print(\"Validation accuracy: %.1f%%\" % accuracy(\n",
    "                    valid_prediction.eval(), valid_labels_reshaped))\n",
    "        print(\"Test accuracy: %.1f%%\" % accuracy(test_prediction.eval(), test_labels_reshaped))"
   ]
  },
  {
   "cell_type": "code",
   "execution_count": 81,
   "metadata": {
    "collapsed": false
   },
   "outputs": [
    {
     "name": "stdout",
     "output_type": "stream",
     "text": [
      "Initialized\n",
      "Minibatch loss at step 0: 2.344998\n",
      "Minibatch accuracy: 8.6%\n",
      "Validation accuracy: 18.3%\n",
      "Minibatch loss at step 500: 0.714416\n",
      "Minibatch accuracy: 81.2%\n",
      "Validation accuracy: 84.4%\n",
      "Minibatch loss at step 1000: 0.524152\n",
      "Minibatch accuracy: 84.4%\n",
      "Validation accuracy: 85.3%\n",
      "Minibatch loss at step 1500: 0.464589\n",
      "Minibatch accuracy: 92.2%\n",
      "Validation accuracy: 85.4%\n",
      "Minibatch loss at step 2000: 0.420039\n",
      "Minibatch accuracy: 92.2%\n",
      "Validation accuracy: 87.2%\n",
      "Minibatch loss at step 2500: 0.272450\n",
      "Minibatch accuracy: 91.4%\n",
      "Validation accuracy: 86.7%\n",
      "Minibatch loss at step 3000: 0.495406\n",
      "Minibatch accuracy: 90.6%\n",
      "Validation accuracy: 86.3%\n",
      "Minibatch loss at step 3500: 0.359976\n",
      "Minibatch accuracy: 92.2%\n",
      "Validation accuracy: 86.7%\n",
      "Minibatch loss at step 4000: 0.353752\n",
      "Minibatch accuracy: 90.6%\n",
      "Validation accuracy: 85.9%\n",
      "Minibatch loss at step 4500: 0.184691\n",
      "Minibatch accuracy: 94.5%\n",
      "Validation accuracy: 87.2%\n",
      "Minibatch loss at step 5000: 0.421083\n",
      "Minibatch accuracy: 92.2%\n",
      "Validation accuracy: 87.5%\n",
      "Minibatch loss at step 5500: 0.260114\n",
      "Minibatch accuracy: 95.3%\n",
      "Validation accuracy: 86.5%\n",
      "Minibatch loss at step 6000: 0.553412\n",
      "Minibatch accuracy: 91.4%\n",
      "Validation accuracy: 86.5%\n",
      "Minibatch loss at step 6500: 0.190903\n",
      "Minibatch accuracy: 96.1%\n",
      "Validation accuracy: 86.5%\n",
      "Minibatch loss at step 7000: 0.229494\n",
      "Minibatch accuracy: 96.1%\n",
      "Validation accuracy: 88.1%\n",
      "Minibatch loss at step 7500: 0.216768\n",
      "Minibatch accuracy: 95.3%\n",
      "Validation accuracy: 87.5%\n",
      "Minibatch loss at step 8000: 0.184643\n",
      "Minibatch accuracy: 95.3%\n",
      "Validation accuracy: 86.9%\n",
      "Minibatch loss at step 8500: 0.304778\n",
      "Minibatch accuracy: 96.1%\n",
      "Validation accuracy: 87.1%\n",
      "Minibatch loss at step 9000: 0.162831\n",
      "Minibatch accuracy: 99.2%\n",
      "Validation accuracy: 86.9%\n",
      "Minibatch loss at step 9500: 0.230248\n",
      "Minibatch accuracy: 96.9%\n",
      "Validation accuracy: 87.1%\n",
      "Minibatch loss at step 10000: 0.148849\n",
      "Minibatch accuracy: 97.7%\n",
      "Validation accuracy: 87.3%\n",
      "Minibatch loss at step 10500: 0.138727\n",
      "Minibatch accuracy: 98.4%\n",
      "Validation accuracy: 87.5%\n",
      "Minibatch loss at step 11000: 0.132263\n",
      "Minibatch accuracy: 100.0%\n",
      "Validation accuracy: 87.0%\n",
      "Minibatch loss at step 11500: 0.222914\n",
      "Minibatch accuracy: 96.1%\n",
      "Validation accuracy: 87.2%\n",
      "Minibatch loss at step 12000: 0.141905\n",
      "Minibatch accuracy: 98.4%\n",
      "Validation accuracy: 87.4%\n",
      "Minibatch loss at step 12500: 0.236128\n",
      "Minibatch accuracy: 98.4%\n",
      "Validation accuracy: 87.3%\n",
      "Minibatch loss at step 13000: 0.187689\n",
      "Minibatch accuracy: 96.9%\n",
      "Validation accuracy: 87.2%\n",
      "Minibatch loss at step 13500: 0.196693\n",
      "Minibatch accuracy: 98.4%\n",
      "Validation accuracy: 87.4%\n",
      "Minibatch loss at step 14000: 0.183022\n",
      "Minibatch accuracy: 98.4%\n",
      "Validation accuracy: 87.5%\n",
      "Minibatch loss at step 14500: 0.292784\n",
      "Minibatch accuracy: 96.1%\n",
      "Validation accuracy: 86.5%\n",
      "Minibatch loss at step 15000: 0.324489\n",
      "Minibatch accuracy: 96.1%\n",
      "Validation accuracy: 86.8%\n",
      "Minibatch loss at step 15500: 0.161201\n",
      "Minibatch accuracy: 99.2%\n",
      "Validation accuracy: 87.0%\n",
      "Minibatch loss at step 16000: 0.224726\n",
      "Minibatch accuracy: 98.4%\n",
      "Validation accuracy: 87.0%\n",
      "Minibatch loss at step 16500: 0.150992\n",
      "Minibatch accuracy: 99.2%\n",
      "Validation accuracy: 87.1%\n",
      "Minibatch loss at step 17000: 0.163248\n",
      "Minibatch accuracy: 98.4%\n",
      "Validation accuracy: 86.3%\n",
      "Minibatch loss at step 17500: 0.102122\n",
      "Minibatch accuracy: 99.2%\n",
      "Validation accuracy: 87.7%\n",
      "Minibatch loss at step 18000: 0.155129\n",
      "Minibatch accuracy: 99.2%\n",
      "Validation accuracy: 87.2%\n",
      "Minibatch loss at step 18500: 0.109290\n",
      "Minibatch accuracy: 99.2%\n",
      "Validation accuracy: 86.7%\n",
      "Minibatch loss at step 19000: 0.249636\n",
      "Minibatch accuracy: 99.2%\n",
      "Validation accuracy: 87.0%\n",
      "Minibatch loss at step 19500: 0.167599\n",
      "Minibatch accuracy: 100.0%\n",
      "Validation accuracy: 87.5%\n",
      "Minibatch loss at step 20000: 0.207528\n",
      "Minibatch accuracy: 99.2%\n",
      "Validation accuracy: 87.3%\n",
      "Test accuracy: 94.1%\n"
     ]
    }
   ],
   "source": [
    "tf_deep_nn(regular=True, drop_out=True, lrd=False, hidden_layer_cnt=2)"
   ]
  },
  {
   "cell_type": "markdown",
   "metadata": {},
   "source": [
    "Final accuracy improved to 94.1%. If we tuned the parameters, perhaps it would be higher."
   ]
  },
  {
   "cell_type": "code",
   "execution_count": null,
   "metadata": {
    "collapsed": true
   },
   "outputs": [],
   "source": []
  }
 ],
 "metadata": {
  "kernelspec": {
   "display_name": "Python 2",
   "language": "python",
   "name": "python2"
  },
  "language_info": {
   "codemirror_mode": {
    "name": "ipython",
    "version": 2
   },
   "file_extension": ".py",
   "mimetype": "text/x-python",
   "name": "python",
   "nbconvert_exporter": "python",
   "pygments_lexer": "ipython2",
   "version": "2.7.6"
  }
 },
 "nbformat": 4,
 "nbformat_minor": 0
}
