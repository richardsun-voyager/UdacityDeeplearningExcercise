{
 "cells": [
  {
   "cell_type": "code",
   "execution_count": 14,
   "metadata": {
    "collapsed": false
   },
   "outputs": [
    {
     "name": "stdout",
     "output_type": "stream",
     "text": [
      "Extracting MNIST_data/train-images-idx3-ubyte.gz\n",
      "Extracting MNIST_data/train-labels-idx1-ubyte.gz\n",
      "Extracting MNIST_data/t10k-images-idx3-ubyte.gz\n",
      "Extracting MNIST_data/t10k-labels-idx1-ubyte.gz\n"
     ]
    },
    {
     "name": "stderr",
     "output_type": "stream",
     "text": [
      "Exception AssertionError: AssertionError() in <bound method InteractiveSession.__del__ of <tensorflow.python.client.session.InteractiveSession object at 0x7fe4240a0ed0>> ignored\n"
     ]
    }
   ],
   "source": [
    "from tensorflow.examples.tutorials.mnist import input_data  \n",
    "mnist = input_data.read_data_sets('MNIST_data', one_hot=True)  \n",
    "import tensorflow as tf  \n",
    "sess = tf.InteractiveSession()  "
   ]
  },
  {
   "cell_type": "code",
   "execution_count": 15,
   "metadata": {
    "collapsed": false
   },
   "outputs": [],
   "source": [
    " \n",
    "def weight_variable(shape):  \n",
    "  initial = tf.truncated_normal(shape, stddev=0.1)  \n",
    "  return tf.Variable(initial)  \n",
    "  \n",
    "def bias_variable(shape):  \n",
    "  initial = tf.constant(0.1, shape=shape)  \n",
    "  return tf.Variable(initial)  \n",
    "  \n",
    "def conv2d(x, W):  \n",
    "  return tf.nn.conv2d(x, W, strides=[1, 2, 2, 1], padding='SAME')  \n",
    "  \n",
    "def max_pool_2x2(x):  \n",
    "  return tf.nn.max_pool(x, ksize=[1, 2, 2, 1],  \n",
    "                        strides=[1, 2, 2, 1], padding='SAME')  \n",
    "  \n"
   ]
  },
  {
   "cell_type": "code",
   "execution_count": 16,
   "metadata": {
    "collapsed": true
   },
   "outputs": [],
   "source": [
    "x =tf.placeholder(tf.float32, shape=[None, 784])\n",
    "y_ =tf.placeholder(tf.float32, shape=[None, 10])"
   ]
  },
  {
   "cell_type": "code",
   "execution_count": 42,
   "metadata": {
    "collapsed": false
   },
   "outputs": [],
   "source": [
    "#The first layer\n",
    "W_conv1 = weight_variable([5, 5, 1, 16])  \n",
    "b_conv1 = bias_variable([16])  \n",
    "  \n",
    "x_image = tf.reshape(x, [-1,28,28,1])  \n",
    "  \n",
    "h_conv1 = tf.nn.relu(conv2d(x_image, W_conv1) + b_conv1)  \n",
    "h_pool1 = max_pool_2x2(h_conv1)  \n",
    "#The second layer  \n",
    "W_conv2 = weight_variable([5, 5, 16, 16])  \n",
    "b_conv2 = bias_variable([16])  \n",
    "  \n",
    "h_conv2 = tf.nn.relu(conv2d(h_pool1, W_conv2) + b_conv2)  \n",
    "h_pool2 = max_pool_2x2(h_conv2)  \n",
    "\n",
    "#Full connection layer\n",
    "W_fc1 = weight_variable([2 * 2 * 16, 64])  \n",
    "b_fc1 = bias_variable([64])  \n",
    "  \n",
    "h_pool2_flat = tf.reshape(h_pool2, [-1, 2*2*16])  \n",
    "h_fc1 = tf.nn.relu(tf.matmul(h_pool2_flat, W_fc1) + b_fc1)  \n",
    "#Drop out  \n",
    "keep_prob = tf.placeholder(tf.float32)  \n",
    "h_fc1_drop = tf.nn.dropout(h_fc1, keep_prob)  \n",
    "\n",
    "#Output layer\n",
    "W_fc2 = weight_variable([64, 10])  \n",
    "b_fc2 = bias_variable([10])  \n",
    "  \n",
    "y_conv=tf.nn.softmax(tf.matmul(h_fc1_drop, W_fc2) + b_fc2)  \n",
    "  \n"
   ]
  },
  {
   "cell_type": "code",
   "execution_count": 51,
   "metadata": {
    "collapsed": false
   },
   "outputs": [
    {
     "data": {
      "text/plain": [
       "TensorShape([Dimension(None), Dimension(10)])"
      ]
     },
     "execution_count": 51,
     "metadata": {},
     "output_type": "execute_result"
    }
   ],
   "source": [
    "y_conv.get_shape()"
   ]
  },
  {
   "cell_type": "code",
   "execution_count": 39,
   "metadata": {
    "collapsed": false
   },
   "outputs": [
    {
     "name": "stdout",
     "output_type": "stream",
     "text": [
      "step 0, training accuracy 0.02\n",
      "step 100, training accuracy 0.16\n",
      "step 200, training accuracy 0.52\n",
      "step 300, training accuracy 0.36\n",
      "step 400, training accuracy 0.64\n",
      "step 500, training accuracy 0.62\n",
      "step 600, training accuracy 0.68\n",
      "step 700, training accuracy 0.62\n",
      "step 800, training accuracy 0.76\n",
      "step 900, training accuracy 0.82\n",
      "step 1000, training accuracy 0.74\n",
      "step 1100, training accuracy 0.84\n",
      "step 1200, training accuracy 0.82\n",
      "step 1300, training accuracy 0.76\n",
      "step 1400, training accuracy 0.8\n",
      "step 1500, training accuracy 0.84\n",
      "step 1600, training accuracy 0.92\n",
      "step 1700, training accuracy 0.92\n",
      "step 1800, training accuracy 0.92\n",
      "step 1900, training accuracy 0.78\n",
      "step 2000, training accuracy 0.82\n",
      "step 2100, training accuracy 0.88\n",
      "step 2200, training accuracy 0.92\n",
      "step 2300, training accuracy 0.82\n",
      "step 2400, training accuracy 0.94\n",
      "step 2500, training accuracy 0.86\n",
      "step 2600, training accuracy 0.82\n",
      "step 2700, training accuracy 0.92\n",
      "step 2800, training accuracy 0.9\n",
      "step 2900, training accuracy 0.88\n",
      "step 3000, training accuracy 0.9\n",
      "step 3100, training accuracy 0.92\n",
      "step 3200, training accuracy 0.86\n",
      "step 3300, training accuracy 0.9\n",
      "step 3400, training accuracy 0.96\n",
      "step 3500, training accuracy 0.86\n",
      "step 3600, training accuracy 0.88\n",
      "step 3700, training accuracy 0.88\n",
      "step 3800, training accuracy 0.94\n",
      "step 3900, training accuracy 1\n",
      "step 4000, training accuracy 0.94\n",
      "step 4100, training accuracy 0.94\n",
      "step 4200, training accuracy 0.94\n",
      "step 4300, training accuracy 0.88\n",
      "step 4400, training accuracy 0.96\n",
      "step 4500, training accuracy 0.96\n",
      "step 4600, training accuracy 0.96\n",
      "step 4700, training accuracy 0.96\n",
      "step 4800, training accuracy 0.92\n",
      "step 4900, training accuracy 0.96\n",
      "test accuracy 0.9376\n"
     ]
    }
   ],
   "source": [
    "cross_entropy = -tf.reduce_sum(y_*tf.log(y_conv))  \n",
    "train_step = tf.train.AdamOptimizer(1e-4).minimize(cross_entropy)  \n",
    "correct_prediction = tf.equal(tf.argmax(y_conv,1), tf.argmax(y_,1))  \n",
    "accuracy = tf.reduce_mean(tf.cast(correct_prediction, tf.float32))  \n",
    "sess.run(tf.initialize_all_variables())  \n",
    "for i in range(5000):  \n",
    "  batch = mnist.train.next_batch(50)  \n",
    "  if i%100 == 0:  \n",
    "    train_accuracy = accuracy.eval(feed_dict={  \n",
    "        x:batch[0], y_: batch[1], keep_prob: 1.0})  \n",
    "    print(\"step %d, training accuracy %g\"%(i, train_accuracy))  \n",
    "  train_step.run(feed_dict={x: batch[0], y_: batch[1], keep_prob: 0.5})  \n",
    "  \n",
    "print(\"test accuracy %g\"%accuracy.eval(feed_dict={  \n",
    "    x: mnist.test.images, y_: mnist.test.labels, keep_prob: 1.0}))  "
   ]
  },
  {
   "cell_type": "code",
   "execution_count": null,
   "metadata": {
    "collapsed": true
   },
   "outputs": [],
   "source": []
  }
 ],
 "metadata": {
  "kernelspec": {
   "display_name": "Python 2",
   "language": "python",
   "name": "python2"
  },
  "language_info": {
   "codemirror_mode": {
    "name": "ipython",
    "version": 2
   },
   "file_extension": ".py",
   "mimetype": "text/x-python",
   "name": "python",
   "nbconvert_exporter": "python",
   "pygments_lexer": "ipython2",
   "version": "2.7.6"
  }
 },
 "nbformat": 4,
 "nbformat_minor": 0
}
