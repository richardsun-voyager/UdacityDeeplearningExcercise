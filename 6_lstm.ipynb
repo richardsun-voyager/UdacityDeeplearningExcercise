{
 "cells": [
  {
   "cell_type": "markdown",
   "metadata": {
    "colab_type": "text",
    "id": "8tQJd2YSCfWR"
   },
   "source": []
  },
  {
   "cell_type": "markdown",
   "metadata": {
    "colab_type": "text",
    "id": "D7tqLMoKF6uq"
   },
   "source": [
    "Deep Learning\n",
    "=============\n",
    "\n",
    "Assignment 6\n",
    "------------\n",
    "\n",
    "After training a skip-gram model in `5_word2vec.ipynb`, the goal of this notebook is to train a LSTM character model over [Text8](http://mattmahoney.net/dc/textdata) data."
   ]
  },
  {
   "cell_type": "code",
   "execution_count": 1,
   "metadata": {
    "cellView": "both",
    "colab": {
     "autoexec": {
      "startup": false,
      "wait_interval": 0
     }
    },
    "colab_type": "code",
    "collapsed": true,
    "id": "MvEblsgEXxrd"
   },
   "outputs": [],
   "source": [
    "# These are all the modules we'll be using later. Make sure you can import them\n",
    "# before proceeding further.\n",
    "from __future__ import print_function\n",
    "import os\n",
    "import numpy as np\n",
    "import random\n",
    "import string\n",
    "import tensorflow as tf\n",
    "import zipfile\n",
    "from six.moves import range\n",
    "from six.moves.urllib.request import urlretrieve"
   ]
  },
  {
   "cell_type": "markdown",
   "metadata": {},
   "source": [
    "Download the data text8 as we did in the previous preoject."
   ]
  },
  {
   "cell_type": "code",
   "execution_count": 2,
   "metadata": {
    "cellView": "both",
    "colab": {
     "autoexec": {
      "startup": false,
      "wait_interval": 0
     },
     "output_extras": [
      {
       "item_id": 1
      }
     ]
    },
    "colab_type": "code",
    "collapsed": false,
    "executionInfo": {
     "elapsed": 5993,
     "status": "ok",
     "timestamp": 1445965582896,
     "user": {
      "color": "#1FA15D",
      "displayName": "Vincent Vanhoucke",
      "isAnonymous": false,
      "isMe": true,
      "permissionId": "05076109866853157986",
      "photoUrl": "//lh6.googleusercontent.com/-cCJa7dTDcgQ/AAAAAAAAAAI/AAAAAAAACgw/r2EZ_8oYer4/s50-c-k-no/photo.jpg",
      "sessionId": "6f6f07b359200c46",
      "userId": "102167687554210253930"
     },
     "user_tz": 420
    },
    "id": "RJ-o3UBUFtCw",
    "outputId": "d530534e-0791-4a94-ca6d-1c8f1b908a9e"
   },
   "outputs": [
    {
     "name": "stdout",
     "output_type": "stream",
     "text": [
      "Found and verified text8.zip\n"
     ]
    }
   ],
   "source": [
    "url = 'http://mattmahoney.net/dc/'\n",
    "##Download the file\n",
    "def maybe_download(filename, expected_bytes):\n",
    "  \"\"\"Download a file if not present, and make sure it's the right size.\"\"\"\n",
    "  if not os.path.exists(filename):\n",
    "    filename, _ = urlretrieve(url + filename, filename)\n",
    "  statinfo = os.stat(filename)\n",
    "  if statinfo.st_size == expected_bytes:\n",
    "    print('Found and verified %s' % filename)\n",
    "  else:\n",
    "    print(statinfo.st_size)\n",
    "    raise Exception(\n",
    "      'Failed to verify ' + filename + '. Can you get to it with a browser?')\n",
    "  return filename\n",
    "\n",
    "filename = maybe_download('text8.zip', 31344016)"
   ]
  },
  {
   "cell_type": "markdown",
   "metadata": {},
   "source": [
    "Connect all the words into a long string."
   ]
  },
  {
   "cell_type": "code",
   "execution_count": 3,
   "metadata": {
    "cellView": "both",
    "colab": {
     "autoexec": {
      "startup": false,
      "wait_interval": 0
     },
     "output_extras": [
      {
       "item_id": 1
      }
     ]
    },
    "colab_type": "code",
    "collapsed": false,
    "executionInfo": {
     "elapsed": 5982,
     "status": "ok",
     "timestamp": 1445965582916,
     "user": {
      "color": "#1FA15D",
      "displayName": "Vincent Vanhoucke",
      "isAnonymous": false,
      "isMe": true,
      "permissionId": "05076109866853157986",
      "photoUrl": "//lh6.googleusercontent.com/-cCJa7dTDcgQ/AAAAAAAAAAI/AAAAAAAACgw/r2EZ_8oYer4/s50-c-k-no/photo.jpg",
      "sessionId": "6f6f07b359200c46",
      "userId": "102167687554210253930"
     },
     "user_tz": 420
    },
    "id": "Mvf09fjugFU_",
    "outputId": "8f75db58-3862-404b-a0c3-799380597390"
   },
   "outputs": [
    {
     "name": "stdout",
     "output_type": "stream",
     "text": [
      "Data size 100000000\n"
     ]
    }
   ],
   "source": [
    "#Connect all the words into a large string\n",
    "def read_data(filename):\n",
    "  f = zipfile.ZipFile(filename)\n",
    "  for name in f.namelist():\n",
    "    return tf.compat.as_str(f.read(name))\n",
    "  f.close()\n",
    "  \n",
    "text = read_data(filename)\n",
    "print('Data size %d' % len(text))"
   ]
  },
  {
   "cell_type": "markdown",
   "metadata": {},
   "source": [
    "Let's have a look at the string."
   ]
  },
  {
   "cell_type": "code",
   "execution_count": 4,
   "metadata": {
    "collapsed": false
   },
   "outputs": [
    {
     "data": {
      "text/plain": [
       "' anarchism originated as a term of abuse first used against early working class radicals including t'"
      ]
     },
     "execution_count": 4,
     "metadata": {},
     "output_type": "execute_result"
    }
   ],
   "source": [
    "text[:100]"
   ]
  },
  {
   "cell_type": "markdown",
   "metadata": {
    "colab_type": "text",
    "id": "ga2CYACE-ghb"
   },
   "source": [
    "Create a small validation set."
   ]
  },
  {
   "cell_type": "code",
   "execution_count": 5,
   "metadata": {
    "cellView": "both",
    "colab": {
     "autoexec": {
      "startup": false,
      "wait_interval": 0
     },
     "output_extras": [
      {
       "item_id": 1
      }
     ]
    },
    "colab_type": "code",
    "collapsed": false,
    "executionInfo": {
     "elapsed": 6184,
     "status": "ok",
     "timestamp": 1445965583138,
     "user": {
      "color": "#1FA15D",
      "displayName": "Vincent Vanhoucke",
      "isAnonymous": false,
      "isMe": true,
      "permissionId": "05076109866853157986",
      "photoUrl": "//lh6.googleusercontent.com/-cCJa7dTDcgQ/AAAAAAAAAAI/AAAAAAAACgw/r2EZ_8oYer4/s50-c-k-no/photo.jpg",
      "sessionId": "6f6f07b359200c46",
      "userId": "102167687554210253930"
     },
     "user_tz": 420
    },
    "id": "w-oBpfFG-j43",
    "outputId": "bdb96002-d021-4379-f6de-a977924f0d02"
   },
   "outputs": [
    {
     "name": "stdout",
     "output_type": "stream",
     "text": [
      "99999000 ons anarchists advocate social relations based upon voluntary as\n",
      "1000  anarchism originated as a term of abuse first used against earl\n"
     ]
    }
   ],
   "source": [
    "#Split the string into training and validating parts\n",
    "valid_size = 1000\n",
    "valid_text = text[:valid_size]\n",
    "train_text = text[valid_size:]\n",
    "train_size = len(train_text)\n",
    "print(train_size, train_text[:64])\n",
    "print(valid_size, valid_text[:64])"
   ]
  },
  {
   "cell_type": "markdown",
   "metadata": {
    "colab_type": "text",
    "id": "Zdw6i4F8glpp"
   },
   "source": [
    "Utility functions to map characters to vocabulary IDs and back."
   ]
  },
  {
   "cell_type": "code",
   "execution_count": 6,
   "metadata": {
    "collapsed": true
   },
   "outputs": [],
   "source": [
    "vocabulary_size = len(string.ascii_lowercase) + 1 # [a-z] + ' '\n",
    "first_letter = ord(string.ascii_lowercase[0])"
   ]
  },
  {
   "cell_type": "code",
   "execution_count": 7,
   "metadata": {
    "collapsed": false
   },
   "outputs": [
    {
     "data": {
      "text/plain": [
       "27"
      ]
     },
     "execution_count": 7,
     "metadata": {},
     "output_type": "execute_result"
    }
   ],
   "source": [
    "vocabulary_size"
   ]
  },
  {
   "cell_type": "markdown",
   "metadata": {},
   "source": [
    "Create some functions to map words into ID numbers and vice versa."
   ]
  },
  {
   "cell_type": "code",
   "execution_count": 8,
   "metadata": {
    "cellView": "both",
    "colab": {
     "autoexec": {
      "startup": false,
      "wait_interval": 0
     },
     "output_extras": [
      {
       "item_id": 1
      }
     ]
    },
    "colab_type": "code",
    "collapsed": false,
    "executionInfo": {
     "elapsed": 6276,
     "status": "ok",
     "timestamp": 1445965583249,
     "user": {
      "color": "#1FA15D",
      "displayName": "Vincent Vanhoucke",
      "isAnonymous": false,
      "isMe": true,
      "permissionId": "05076109866853157986",
      "photoUrl": "//lh6.googleusercontent.com/-cCJa7dTDcgQ/AAAAAAAAAAI/AAAAAAAACgw/r2EZ_8oYer4/s50-c-k-no/photo.jpg",
      "sessionId": "6f6f07b359200c46",
      "userId": "102167687554210253930"
     },
     "user_tz": 420
    },
    "id": "gAL1EECXeZsD",
    "outputId": "88fc9032-feb9-45ff-a9a0-a26759cc1f2e"
   },
   "outputs": [
    {
     "name": "stdout",
     "output_type": "stream",
     "text": [
      "Unexpected character: ï\n",
      "1 26 0 0\n",
      "a z  \n"
     ]
    }
   ],
   "source": [
    "#Map a char into an ID\n",
    "def char2id(char):\n",
    "  if char in string.ascii_lowercase:\n",
    "    return ord(char) - first_letter + 1\n",
    "  elif char == ' ':\n",
    "    return 0\n",
    "  else:\n",
    "    print('Unexpected character: %s' % char)\n",
    "    return 0\n",
    "#Map an ID into a char  \n",
    "def id2char(dictid):\n",
    "  if dictid > 0:\n",
    "    return chr(dictid + first_letter - 1)\n",
    "  else:\n",
    "    return ' '\n",
    "\n",
    "print(char2id('a'), char2id('z'), char2id(' '), char2id('ï'))\n",
    "print(id2char(1), id2char(26), id2char(0))"
   ]
  },
  {
   "cell_type": "markdown",
   "metadata": {
    "colab_type": "text",
    "id": "lFwoyygOmWsL"
   },
   "source": [
    "Function to generate a training batch for the LSTM model."
   ]
  },
  {
   "cell_type": "code",
   "execution_count": 9,
   "metadata": {
    "cellView": "both",
    "colab": {
     "autoexec": {
      "startup": false,
      "wait_interval": 0
     },
     "output_extras": [
      {
       "item_id": 1
      }
     ]
    },
    "colab_type": "code",
    "collapsed": false,
    "executionInfo": {
     "elapsed": 6473,
     "status": "ok",
     "timestamp": 1445965583467,
     "user": {
      "color": "#1FA15D",
      "displayName": "Vincent Vanhoucke",
      "isAnonymous": false,
      "isMe": true,
      "permissionId": "05076109866853157986",
      "photoUrl": "//lh6.googleusercontent.com/-cCJa7dTDcgQ/AAAAAAAAAAI/AAAAAAAACgw/r2EZ_8oYer4/s50-c-k-no/photo.jpg",
      "sessionId": "6f6f07b359200c46",
      "userId": "102167687554210253930"
     },
     "user_tz": 420
    },
    "id": "d9wMtjy5hCj9",
    "outputId": "3dd79c80-454a-4be0-8b71-4a4a357b3367"
   },
   "outputs": [],
   "source": [
    "batch_size=64\n",
    "num_unrollings=10\n",
    "\n",
    "class BatchGenerator(object):\n",
    "  def __init__(self, text, batch_size, num_unrollings):\n",
    "    self._text = text\n",
    "    self._text_size = len(text)\n",
    "    self._batch_size = batch_size\n",
    "    self._num_unrollings = num_unrollings\n",
    "    self._segment = self._text_size // batch_size\n",
    "    #Cursor stores the indice of characters in the original text\n",
    "    self._cursor = [ offset * self._segment for offset in range(batch_size)]\n",
    "    self._last_batch = self._next_batch()\n",
    "    \n",
    "  def _test_cursor(self):\n",
    "    return self._cursor\n",
    "\n",
    "  def _test_segment(self):\n",
    "    return self._segment\n",
    "  \n",
    "  def _next_batch(self):\n",
    "    \"\"\"Generate a single batch from the current cursor position in the data.\"\"\"\n",
    "    #batch is an array of batch_size * vocabulary_size(64*27)\n",
    "    batch = np.zeros(shape=(self._batch_size, vocabulary_size), dtype=np.float)\n",
    "    #one-hot encoder, encode each character as [000100...]\n",
    "    #Note, first pick the ith character then then (i+segment)th character\n",
    "    for b in range(self._batch_size):\n",
    "      batch[b, char2id(self._text[self._cursor[b]])] = 1.0\n",
    "      self._cursor[b] = (self._cursor[b] + 1) % self._text_size\n",
    "    return batch\n",
    "  \n",
    "  def next(self):\n",
    "    \"\"\"Generate the next array of batches from the data. The array consists of\n",
    "    the last batch of the previous array, followed by num_unrollings new ones.\n",
    "    \"\"\"\n",
    "    batches = [self._last_batch]\n",
    "    for step in range(self._num_unrollings):\n",
    "      batches.append(self._next_batch())\n",
    "    self._last_batch = batches[-1]\n",
    "    return batches"
   ]
  },
  {
   "cell_type": "code",
   "execution_count": 10,
   "metadata": {
    "collapsed": false
   },
   "outputs": [
    {
     "name": "stdout",
     "output_type": "stream",
     "text": [
      "['ons anarchi', 'when milita', 'lleria arch', ' abbeys and', 'married urr', 'hel and ric', 'y and litur', 'ay opened f', 'tion from t', 'migration t', 'new york ot', 'he boeing s', 'e listed wi', 'eber has pr', 'o be made t', 'yer who rec', 'ore signifi', 'a fierce cr', ' two six ei', 'aristotle s', 'ity can be ', ' and intrac', 'tion of the', 'dy to pass ', 'f certain d', 'at it will ', 'e convince ', 'ent told hi', 'ampaign and', 'rver side s', 'ious texts ', 'o capitaliz', 'a duplicate', 'gh ann es d', 'ine january', 'ross zero t', 'cal theorie', 'ast instanc', ' dimensiona', 'most holy m', 't s support', 'u is still ', 'e oscillati', 'o eight sub', 'of italy la', 's the tower', 'klahoma pre', 'erprise lin', 'ws becomes ', 'et in a naz', 'the fabian ', 'etchy to re', ' sharman ne', 'ised empero', 'ting in pol', 'd neo latin', 'th risky ri', 'encyclopedi', 'fense the a', 'duating fro', 'treet grid ', 'ations more', 'appeal of d', 'si have mad']\n",
      "['ists advoca', 'ary governm', 'hes nationa', 'd monasteri', 'raca prince', 'chard baer ', 'rgical lang', 'for passeng', 'the nationa', 'took place ', 'ther well k', 'seven six s', 'ith a gloss', 'robably bee', 'to recogniz', 'ceived the ', 'icant than ', 'ritic of th', 'ight in sig', 's uncaused ', ' lost as in', 'cellular ic', 'e size of t', ' him a stic', 'drugs confu', ' take to co', ' the priest', 'im to name ', 'd barred at', 'standard fo', ' such as es', 'ze on the g', 'e of the or', 'd hiver one', 'y eight mar', 'the lead ch', 'es classica', 'ce the non ', 'al analysis', 'mormons bel', 't or at lea', ' disagreed ', 'ing system ', 'btypes base', 'anguages th', 'r commissio', 'ess one nin', 'nux suse li', ' the first ', 'zi concentr', ' society ne', 'elatively s', 'etworks sha', 'or hirohito', 'litical ini', 'n most of t', 'iskerdoo ri', 'ic overview', 'air compone', 'om acnm acc', ' centerline', 'e than any ', 'devotional ', 'de such dev']\n"
     ]
    }
   ],
   "source": [
    "def characters(probabilities):\n",
    "  \"\"\"Turn a 1-hot encoding or a probability distribution over the possible\n",
    "  characters back into its (most likely) character representation.\"\"\"\n",
    "  return [id2char(c) for c in np.argmax(probabilities, 1)]\n",
    "\n",
    "def batches2string(batches):\n",
    "  \"\"\"Convert a sequence of batches back into their (most likely) string\n",
    "  representation.\"\"\"\n",
    "  s = [''] * batches[0].shape[0]\n",
    "  for b in batches:\n",
    "    s = [''.join(x) for x in zip(s, characters(b))]\n",
    "  return s\n",
    "\n",
    "train_batches = BatchGenerator(train_text, batch_size, num_unrollings)\n",
    "valid_batches = BatchGenerator(valid_text, 1, 1)\n",
    "\n",
    "print(batches2string(train_batches.next()))\n",
    "print(batches2string(train_batches.next()))\n",
    "#print(batches2string(valid_batches.next()))\n",
    "#print(batches2string(valid_batches.next()))"
   ]
  },
  {
   "cell_type": "code",
   "execution_count": 11,
   "metadata": {
    "cellView": "both",
    "colab": {
     "autoexec": {
      "startup": false,
      "wait_interval": 0
     }
    },
    "colab_type": "code",
    "collapsed": true,
    "id": "KyVd8FxT5QBc"
   },
   "outputs": [],
   "source": [
    "def logprob(predictions, labels):\n",
    "  \"\"\"Log-probability of the true labels in a predicted batch.\"\"\"\n",
    "  predictions[predictions < 1e-10] = 1e-10\n",
    "  return np.sum(np.multiply(labels, -np.log(predictions))) / labels.shape[0]\n",
    "\n",
    "def sample_distribution(distribution):\n",
    "  \"\"\"Sample one element from a distribution assumed to be an array of normalized\n",
    "  probabilities.\n",
    "  \"\"\"\n",
    "  r = random.uniform(0, 1)\n",
    "  s = 0\n",
    "  for i in range(len(distribution)):\n",
    "    s += distribution[i]\n",
    "    if s >= r:\n",
    "      return i\n",
    "  return len(distribution) - 1\n",
    "\n",
    "def sample(prediction):\n",
    "  \"\"\"Turn a (column) prediction into 1-hot encoded samples.\"\"\"\n",
    "  p = np.zeros(shape=[1, vocabulary_size], dtype=np.float)\n",
    "  p[0, sample_distribution(prediction[0])] = 1.0\n",
    "  return p\n",
    "\n",
    "def random_distribution():\n",
    "  \"\"\"Generate a random column of probabilities.\"\"\"\n",
    "  b = np.random.uniform(0.0, 1.0, size=[1, vocabulary_size])\n",
    "  return b/np.sum(b, 1)[:,None]"
   ]
  },
  {
   "cell_type": "markdown",
   "metadata": {},
   "source": [
    "In a traditional recurrent neural network, during the gradient back-propagation phase, the gradient signal can end up being multiplied a large number of times (as many as the number of timesteps) by the weight matrix associated with the connections between the neurons of the recurrent hidden layer. This means that, the magnitude of weights in the transition matrix can have a strong impact on the learning process.\n",
    "\n",
    "If the weights in this matrix are small (or, more formally, if the leading eigenvalue of the weight matrix is smaller than 1.0), it can lead to a situation called vanishing gradients where the gradient signal gets so small that learning either becomes very slow or stops working altogether. It can also make more difficult the task of learning long-term dependencies in the data. Conversely, if the weights in this matrix are large (or, again, more formally, if the leading eigenvalue of the weight matrix is larger than 1.0), it can lead to a situation where the gradient signal is so large that it can cause learning to diverge. This is often referred to as exploding gradients.\n",
    "\n",
    "These issues are the main motivation behind the LSTM model which introduces a new structure called a memory cell (see Figure 1 below). A memory cell is composed of four main elements: an input gate, a neuron with a self-recurrent connection (a connection to itself), a forget gate and an output gate. The self-recurrent connection has a weight of 1.0 and ensures that, barring any outside interference, the state of a memory cell can remain constant from one timestep to another. The gates serve to modulate the interactions between the memory cell itself and its environment. The input gate can allow incoming signal to alter the state of the memory cell or block it. On the other hand, the output gate can allow the state of the memory cell to have an effect on other neurons or prevent it. Finally, the forget gate can modulate the memory cell’s self-recurrent connection, allowing the cell to remember or forget its previous state, as needed."
   ]
  },
  {
   "cell_type": "markdown",
   "metadata": {
    "colab_type": "text",
    "id": "K8f67YXaDr4C"
   },
   "source": [
    "Simple LSTM Model, as displayed below:\n",
    "![image](LSTM/lstm_memorycell.png)"
   ]
  },
  {
   "cell_type": "markdown",
   "metadata": {},
   "source": [
    "The equations below describe how a layer of memory cells is updated at every timestep t. In these equations :\n",
    "- x(t) is the input to the memory cell layer at time t\n",
    "- Wi, Wf, Wc, Wo, Ui, Uf, Uc, Uo and Vo are weight matrices\n",
    "- bi, bf, bc and bo are bias vectors\n",
    "\n",
    "First, we compute the values for i(t), the input gate, and C~(t) the candidate value for the states of the memory cells at time t:\n",
    "\n",
    "![image](LSTM/11.png)\n",
    "\n",
    "![image](LSTM/22.png)\n",
    " \n",
    "Second, we compute the value for f(t), the activation of the memory cells’ forget gates at time t :\n",
    "\n",
    "\n",
    "![image](LSTM/33.png)\n",
    "\n",
    "Given the value of the input gate activation i(t), the forget gate activation f(t) and the candidate state value C~(t), we can compute C(t) the memory cells’ new state at time t :\n",
    "\n",
    "\n",
    "![image](LSTM/44.png)\n",
    "\n",
    "With the new state of the memory cells, we can compute the value of their output gates and, subsequently, their outputs :\n",
    "\n",
    "\n",
    "![image](LSTM/55.png)\n",
    "\n",
    "\n",
    "![image](LSTM/66.png)\n"
   ]
  },
  {
   "cell_type": "code",
   "execution_count": 80,
   "metadata": {
    "cellView": "both",
    "colab": {
     "autoexec": {
      "startup": false,
      "wait_interval": 0
     }
    },
    "colab_type": "code",
    "collapsed": false,
    "id": "Q5rxZK6RDuGe"
   },
   "outputs": [],
   "source": [
    "num_nodes = 64\n",
    "\n",
    "graph = tf.Graph()\n",
    "with graph.as_default():\n",
    "  \n",
    "  # Parameters(weights):\n",
    "  # Input gate: input, previous output, and bias.\n",
    "  #weights for the input data x(t)\n",
    "  ix = tf.Variable(tf.truncated_normal([vocabulary_size, num_nodes], -0.1, 0.1))\n",
    "  #weights for the last output h(t-1)\n",
    "  im = tf.Variable(tf.truncated_normal([num_nodes, num_nodes], -0.1, 0.1))\n",
    "  #biase\n",
    "  ib = tf.Variable(tf.zeros([1, num_nodes]))#bias\n",
    "  # Forget gate: input, previous output, and bias.\n",
    "  #weights for the input i(t)\n",
    "  fx = tf.Variable(tf.truncated_normal([vocabulary_size, num_nodes], -0.1, 0.1))\n",
    "  #weights for last output h(t-1)\n",
    "  fm = tf.Variable(tf.truncated_normal([num_nodes, num_nodes], -0.1, 0.1))\n",
    "  fb = tf.Variable(tf.zeros([1, num_nodes]))\n",
    "  # Memory cell: input, state and bias.    \n",
    "  #weights for the input data x(t)\n",
    "  cx = tf.Variable(tf.truncated_normal([vocabulary_size, num_nodes], -0.1, 0.1))\n",
    "  #weights for the last output h(t-1)\n",
    "  cm = tf.Variable(tf.truncated_normal([num_nodes, num_nodes], -0.1, 0.1))\n",
    "  cb = tf.Variable(tf.zeros([1, num_nodes]))\n",
    "  # Output gate: input, previous output, and bias.\n",
    "  ox = tf.Variable(tf.truncated_normal([vocabulary_size, num_nodes], -0.1, 0.1))\n",
    "  om = tf.Variable(tf.truncated_normal([num_nodes, num_nodes], -0.1, 0.1))\n",
    "  ob = tf.Variable(tf.zeros([1, num_nodes]))\n",
    "  # Variables saving state across unrollings.\n",
    "  saved_output = tf.Variable(tf.zeros([batch_size, num_nodes]), trainable=False)\n",
    "  saved_state = tf.Variable(tf.zeros([batch_size, num_nodes]), trainable=False)\n",
    "  # Classifier weights and biases, multiply the output of LSTM cell and get the\n",
    "  # predictionss\n",
    "  w = tf.Variable(tf.truncated_normal([num_nodes, vocabulary_size], -0.1, 0.1))\n",
    "  b = tf.Variable(tf.zeros([vocabulary_size]))\n",
    "  \n",
    "  # Definition of the cell computation.\n",
    "  def lstm_cell(i, o, state):\n",
    "    \"\"\"Create a LSTM cell. See e.g.: http://arxiv.org/pdf/1402.1128v1.pdf\n",
    "    Note that in this formulation, we omit the various connections between the\n",
    "    previous state and the gates.\"\"\"\n",
    "    input_gate = tf.sigmoid(tf.matmul(i, ix) + tf.matmul(o, im) + ib)#i(t)\n",
    "    forget_gate = tf.sigmoid(tf.matmul(i, fx) + tf.matmul(o, fm) + fb)#f(t)\n",
    "    update = tf.matmul(i, cx) + tf.matmul(o, cm) + cb\n",
    "    candidate_state = tf.tanh(update) #C~(t)   \n",
    "    state = forget_gate * state + input_gate * candidate_state#C(t)\n",
    "    output_gate = tf.sigmoid(tf.matmul(i, ox) + tf.matmul(o, om) + ob)#O(t)\n",
    "    output = output_gate * tf.tanh(state)#h(t)\n",
    "    return output, state\n",
    "\n",
    "  # Input data, a list of batches of characters in the form of one-hot\n",
    "  train_data = list()\n",
    "  for _ in range(num_unrollings + 1):\n",
    "    train_data.append(\n",
    "      tf.placeholder(tf.float32, shape=[batch_size,vocabulary_size]))\n",
    "  train_inputs = train_data[:num_unrollings]\n",
    "  train_labels = train_data[1:]  # labels are inputs shifted by one time step.\n",
    "\n",
    "  # Unrolled LSTM loop.\n",
    "  outputs = list()\n",
    "  output = saved_output\n",
    "  state = saved_state\n",
    "  for i in train_inputs:\n",
    "    output, state = lstm_cell(i, output, state)\n",
    "    outputs.append(output)\n",
    "\n",
    "  # State saving across unrollings.\n",
    "  # Assign new value(current outpput) to saved_output\n",
    "  with tf.control_dependencies([saved_output.assign(output),\n",
    "                                saved_state.assign(state)]):\n",
    "    # Classifier.\n",
    "    #Connect all the outputs and map the output of LSTM to predictions\n",
    "    logits = tf.nn.xw_plus_b(tf.concat(0, outputs), w, b)\n",
    "    loss = tf.reduce_mean(\n",
    "      tf.nn.softmax_cross_entropy_with_logits(\n",
    "        logits, tf.concat(0, train_labels)))\n",
    "\n",
    "  # Optimizer.\n",
    "  global_step = tf.Variable(0)\n",
    "  learning_rate = tf.train.exponential_decay(\n",
    "    10.0, global_step, 5000, 0.1, staircase=True)\n",
    "  optimizer = tf.train.GradientDescentOptimizer(learning_rate)\n",
    "  #???\n",
    "  gradients, v = zip(*optimizer.compute_gradients(loss))\n",
    "  gradients, _ = tf.clip_by_global_norm(gradients, 1.25)\n",
    "  optimizer = optimizer.apply_gradients(\n",
    "    zip(gradients, v), global_step=global_step)\n",
    "\n",
    "  # Predictions.\n",
    "  train_prediction = tf.nn.softmax(logits)\n",
    "  \n",
    "  # Sampling and validation eval: batch 1, no unrolling.\n",
    "  sample_input = tf.placeholder(tf.float32, shape=[1, vocabulary_size])\n",
    "  saved_sample_output = tf.Variable(tf.zeros([1, num_nodes]))\n",
    "  saved_sample_state = tf.Variable(tf.zeros([1, num_nodes]))\n",
    "  reset_sample_state = tf.group(\n",
    "    saved_sample_output.assign(tf.zeros([1, num_nodes])),\n",
    "    saved_sample_state.assign(tf.zeros([1, num_nodes])))\n",
    "  sample_output, sample_state = lstm_cell(\n",
    "    sample_input, saved_sample_output, saved_sample_state)\n",
    "  with tf.control_dependencies([saved_sample_output.assign(sample_output),\n",
    "                                saved_sample_state.assign(sample_state)]):\n",
    "    sample_prediction = tf.nn.softmax(tf.nn.xw_plus_b(sample_output, w, b))"
   ]
  },
  {
   "cell_type": "code",
   "execution_count": 12,
   "metadata": {
    "cellView": "both",
    "colab": {
     "autoexec": {
      "startup": false,
      "wait_interval": 0
     },
     "output_extras": [
      {
       "item_id": 41
      },
      {
       "item_id": 80
      },
      {
       "item_id": 126
      },
      {
       "item_id": 144
      }
     ]
    },
    "colab_type": "code",
    "collapsed": false,
    "executionInfo": {
     "elapsed": 199909,
     "status": "ok",
     "timestamp": 1445965877333,
     "user": {
      "color": "#1FA15D",
      "displayName": "Vincent Vanhoucke",
      "isAnonymous": false,
      "isMe": true,
      "permissionId": "05076109866853157986",
      "photoUrl": "//lh6.googleusercontent.com/-cCJa7dTDcgQ/AAAAAAAAAAI/AAAAAAAACgw/r2EZ_8oYer4/s50-c-k-no/photo.jpg",
      "sessionId": "6f6f07b359200c46",
      "userId": "102167687554210253930"
     },
     "user_tz": 420
    },
    "id": "RD9zQCZTEaEm",
    "outputId": "5e868466-2532-4545-ce35-b403cf5d9de6"
   },
   "outputs": [
    {
     "name": "stdout",
     "output_type": "stream",
     "text": [
      "WARNING:tensorflow:From <ipython-input-12-36c87c634db6>:5 in <module>.: initialize_all_variables (from tensorflow.python.ops.variables) is deprecated and will be removed after 2017-03-02.\n",
      "Instructions for updating:\n",
      "Use `tf.global_variables_initializer` instead.\n",
      "Initialized\n",
      "Average loss at step 0: 3.293868 learning rate: 10.000000\n",
      "Minibatch perplexity: 26.95\n",
      "================================================================================\n",
      "uvnimhmhkm  bgfpnordaeaqudv iozgjxwttu  kalhy  ee ynoih  wkrq eavafxepzdskrxekd \n",
      "vigtrljnjhynpaq pairs nhcvf ve  vzwnysripelinpepsz qneeodahdeoaa ykpglnjdfyuebdf\n",
      "yzeo  rejlfrdttosiaayzgdnfocjpkztc pprart  vtlemtkn pzei pvkremzi  bfumlzerp  jo\n",
      "wzloien qfypxnm prrsaeqdprqwo f  jncslsdb ki tscecuhel rx dxiznv n iadttuu xwebq\n",
      "x fpunaxnggwxbcrgchnbtograslvatfaaamavdexpknl  cvefhclccd qcau ae dxs elkiosujyn\n",
      "================================================================================\n",
      "Validation set perplexity: 20.22\n",
      "Average loss at step 500: 2.176252 learning rate: 10.000000\n",
      "Minibatch perplexity: 6.44\n",
      "Validation set perplexity: 7.26\n",
      "Average loss at step 1000: 1.848792 learning rate: 10.000000\n",
      "Minibatch perplexity: 5.61\n",
      "Validation set perplexity: 6.01\n",
      "Average loss at step 1500: 1.748836 learning rate: 10.000000\n",
      "Minibatch perplexity: 4.78\n",
      "Validation set perplexity: 5.40\n",
      "Average loss at step 2000: 1.695743 learning rate: 10.000000\n",
      "Minibatch perplexity: 5.43\n",
      "Validation set perplexity: 5.24\n",
      "Average loss at step 2500: 1.670342 learning rate: 10.000000\n",
      "Minibatch perplexity: 5.28\n",
      "Validation set perplexity: 4.77\n",
      "Average loss at step 3000: 1.654362 learning rate: 10.000000\n",
      "Minibatch perplexity: 5.26\n",
      "Validation set perplexity: 4.74\n",
      "Average loss at step 3500: 1.648000 learning rate: 10.000000\n",
      "Minibatch perplexity: 5.57\n",
      "Validation set perplexity: 4.63\n",
      "Average loss at step 4000: 1.650468 learning rate: 10.000000\n",
      "Minibatch perplexity: 4.83\n",
      "Validation set perplexity: 4.57\n",
      "Average loss at step 4500: 1.624972 learning rate: 10.000000\n",
      "Minibatch perplexity: 5.27\n",
      "Validation set perplexity: 4.64\n",
      "Average loss at step 5000: 1.623690 learning rate: 1.000000\n",
      "Minibatch perplexity: 4.52\n",
      "================================================================================\n",
      "was betwas resi france conteotion both and rame two zero zero two six nine one n\n",
      "y of a millers it mustrate in ackusland developed enital metrity goed c generati\n",
      "y ii i in dirin pauld are corrent maxi lomet relation be closbed for was the vir\n",
      "n world by boirne populative six eight are defirily is rophar spony grominth was\n",
      "jument external in itraptergenisal powerve manu que unjueth thak on comqusiniso \n",
      "================================================================================\n",
      "Validation set perplexity: 4.60\n",
      "Average loss at step 5500: 1.587125 learning rate: 1.000000\n",
      "Minibatch perplexity: 4.98\n",
      "Validation set perplexity: 4.26\n",
      "Average loss at step 6000: 1.574051 learning rate: 1.000000\n",
      "Minibatch perplexity: 5.15\n",
      "Validation set perplexity: 4.29\n",
      "Average loss at step 6500: 1.551627 learning rate: 1.000000\n",
      "Minibatch perplexity: 4.59\n",
      "Validation set perplexity: 4.23\n",
      "Average loss at step 7000: 1.592304 learning rate: 1.000000\n",
      "Minibatch perplexity: 5.19\n",
      "Validation set perplexity: 4.27\n"
     ]
    }
   ],
   "source": [
    "num_steps = 7001\n",
    "summary_frequency = 500\n",
    "\n",
    "with tf.Session(graph=graph) as session:\n",
    "  tf.initialize_all_variables().run()\n",
    "  print('Initialized')\n",
    "  mean_loss = 0\n",
    "  for step in range(num_steps):\n",
    "    batches = train_batches.next()\n",
    "    feed_dict = dict()\n",
    "    for i in range(num_unrollings + 1):\n",
    "      feed_dict[train_data[i]] = batches[i]\n",
    "    _, l, predictions, lr = session.run(\n",
    "      [optimizer, loss, train_prediction, learning_rate], feed_dict=feed_dict)\n",
    "    mean_loss += l\n",
    "    if step % summary_frequency == 0:\n",
    "      if step > 0:\n",
    "        mean_loss = mean_loss / summary_frequency\n",
    "      # The mean loss is an estimate of the loss over the last few batches.\n",
    "      print(\n",
    "        'Average loss at step %d: %f learning rate: %f' % (step, mean_loss, lr))\n",
    "      mean_loss = 0\n",
    "      labels = np.concatenate(list(batches)[1:])\n",
    "      print('Minibatch perplexity: %.2f' % float(\n",
    "        np.exp(logprob(predictions, labels))))\n",
    "      if step % (summary_frequency * 10) == 0:\n",
    "        # Generate some samples.\n",
    "        print('=' * 80)\n",
    "        for _ in range(5):\n",
    "          feed = sample(random_distribution())\n",
    "          sentence = characters(feed)[0]\n",
    "          reset_sample_state.run()\n",
    "          for _ in range(79):\n",
    "            prediction = sample_prediction.eval({sample_input: feed})\n",
    "            feed = sample(prediction)\n",
    "            sentence += characters(feed)[0]\n",
    "          print(sentence)\n",
    "        print('=' * 80)\n",
    "      # Measure validation set perplexity.\n",
    "      reset_sample_state.run()\n",
    "      valid_logprob = 0\n",
    "      for _ in range(valid_size):\n",
    "        b = valid_batches.next()\n",
    "        predictions = sample_prediction.eval({sample_input: b[0]})\n",
    "        valid_logprob = valid_logprob + logprob(predictions, b[1])\n",
    "      print('Validation set perplexity: %.2f' % float(np.exp(\n",
    "        valid_logprob / valid_size)))"
   ]
  },
  {
   "cell_type": "code",
   "execution_count": 71,
   "metadata": {
    "collapsed": false
   },
   "outputs": [
    {
     "data": {
      "text/plain": [
       "(1, 27)"
      ]
     },
     "execution_count": 71,
     "metadata": {},
     "output_type": "execute_result"
    }
   ],
   "source": [
    "predictions.shape"
   ]
  },
  {
   "cell_type": "code",
   "execution_count": 72,
   "metadata": {
    "collapsed": false
   },
   "outputs": [
    {
     "data": {
      "text/plain": [
       "(640, 27)"
      ]
     },
     "execution_count": 72,
     "metadata": {},
     "output_type": "execute_result"
    }
   ],
   "source": [
    "labels.shape"
   ]
  },
  {
   "cell_type": "code",
   "execution_count": 73,
   "metadata": {
    "collapsed": false
   },
   "outputs": [
    {
     "data": {
      "text/plain": [
       "(1, 27)"
      ]
     },
     "execution_count": 73,
     "metadata": {},
     "output_type": "execute_result"
    }
   ],
   "source": [
    "np.log(predictions).shape"
   ]
  },
  {
   "cell_type": "code",
   "execution_count": 66,
   "metadata": {
    "collapsed": false
   },
   "outputs": [
    {
     "data": {
      "text/plain": [
       "4.7389280297793448"
      ]
     },
     "execution_count": 66,
     "metadata": {},
     "output_type": "execute_result"
    }
   ],
   "source": [
    "logprob(predictions, labels)"
   ]
  },
  {
   "cell_type": "markdown",
   "metadata": {
    "colab_type": "text",
    "id": "pl4vtmFfa5nn"
   },
   "source": [
    "---\n",
    "Problem 1\n",
    "---------\n",
    "\n",
    "You might have noticed that the definition of the LSTM cell involves 4 matrix multiplications with the input, and 4 matrix multiplications with the output. Simplify the expression by using a single matrix multiply for each, and variables that are 4 times larger.\n",
    "\n",
    "---"
   ]
  },
  {
   "cell_type": "code",
   "execution_count": 30,
   "metadata": {
    "collapsed": true
   },
   "outputs": [],
   "source": [
    "def createVariables(row_num, col_num):\n",
    "    return tf.Variable(tf.truncated_normal([row_num, col_num], -0.1, 0.1))"
   ]
  },
  {
   "cell_type": "code",
   "execution_count": 33,
   "metadata": {
    "collapsed": false
   },
   "outputs": [],
   "source": [
    "num_nodes = 64\n",
    "\n",
    "graph1 = tf.Graph()\n",
    "with graph1.as_default():\n",
    "  \n",
    "  # Parameters(weights):\n",
    "  # Input gate: input, previous output, and bias.\n",
    "  #weights for the input data x(t)\n",
    "  ix = createVariables(vocabulary_size, num_nodes)\n",
    "  #weights for the last output h(t-1)\n",
    "  im = createVariables(num_nodes, num_nodes)\n",
    "  #biase\n",
    "  ib = tf.Variable(tf.zeros([1, num_nodes]))#bias\n",
    "  # Forget gate: input, previous output, and bias.\n",
    "  #weights for the input i(t)\n",
    "  fx = createVariables(vocabulary_size, num_nodes)\n",
    "  #weights for last output h(t-1)\n",
    "  fm = createVariables(num_nodes, num_nodes)\n",
    "  fb = tf.Variable(tf.zeros([1, num_nodes]))\n",
    "  # Memory cell: input, state and bias.    \n",
    "  #weights for the input data x(t)\n",
    "  cx = createVariables(vocabulary_size, num_nodes)\n",
    "  #weights for the last output h(t-1)\n",
    "  cm = createVariables(num_nodes, num_nodes)\n",
    "  cb = tf.Variable(tf.zeros([1, num_nodes]))\n",
    "  # Output gate: input, previous output, and bias.\n",
    "  ox = createVariables(vocabulary_size, num_nodes)\n",
    "  om = createVariables(num_nodes, num_nodes)\n",
    "  ob = tf.Variable(tf.zeros([1, num_nodes]))\n",
    "  # Variables saving state across unrollings.\n",
    "  saved_output = tf.Variable(tf.zeros([batch_size, num_nodes]), trainable=False)\n",
    "  saved_state = tf.Variable(tf.zeros([batch_size, num_nodes]), trainable=False)\n",
    "  # Classifier weights and biases, multiply the output of LSTM cell and get the\n",
    "  # predictionss\n",
    "  w = tf.Variable(tf.truncated_normal([num_nodes, vocabulary_size], -0.1, 0.1))\n",
    "  b = tf.Variable(tf.zeros([vocabulary_size]))\n",
    "  \n",
    "  # Definition of the cell computation.\n",
    "  def lstm_cell(i, o, state):\n",
    "    \"\"\"Create a LSTM cell. See e.g.: http://arxiv.org/pdf/1402.1128v1.pdf\n",
    "    Note that in this formulation, we omit the various connections between the\n",
    "    previous state and the gates.\"\"\"\n",
    "    i_variable = tf.concat(1, [ix, fx, cx, ox])\n",
    "    o_variable = tf.concat(1, [im, fm, cm, om])\n",
    "    input_product, output_product = tf.matmul(i, i_variable), tf.matmul(o, o_variable)\n",
    "    ix_product = input_product[:,:num_nodes]\n",
    "    io_product = output_product[:,:num_nodes]\n",
    "    fx_product = input_product[:,num_nodes:2*num_nodes]\n",
    "    fo_product = output_product[:,num_nodes:2*num_nodes]\n",
    "    cx_product = input_product[:,2*num_nodes:3*num_nodes]\n",
    "    co_product = output_product[:,2*num_nodes:3*num_nodes]\n",
    "    ox_product = input_product[:,3*num_nodes:]\n",
    "    oo_product = output_product[:,3*num_nodes:]\n",
    "    input_gate = tf.sigmoid(ix_product + io_product + ib)#i(t)\n",
    "    forget_gate = tf.sigmoid(fx_product + fo_product + fb)#f(t)\n",
    "    update = cx_product + co_product + cb\n",
    "    candidate_state = tf.tanh(update) #C~(t)   \n",
    "    state = forget_gate * state + input_gate * candidate_state#C(t)\n",
    "    output_gate = tf.sigmoid(ox_product + oo_product + ob)#O(t)\n",
    "    output = output_gate * tf.tanh(state)#h(t)\n",
    "    return output, state\n",
    "\n",
    "  # Input data, a list of batches of characters in the form of one-hot\n",
    "  train_data = list()\n",
    "  for _ in range(num_unrollings + 1):\n",
    "    train_data.append(\n",
    "      tf.placeholder(tf.float32, shape=[batch_size,vocabulary_size]))\n",
    "  train_inputs = train_data[:num_unrollings]\n",
    "  train_labels = train_data[1:]  # labels are inputs shifted by one time step.\n",
    "\n",
    "  # Unrolled LSTM loop.\n",
    "  outputs = list()\n",
    "  output = saved_output\n",
    "  state = saved_state\n",
    "  for i in train_inputs:\n",
    "    output, state = lstm_cell(i, output, state)\n",
    "    outputs.append(output)\n",
    "\n",
    "  # State saving across unrollings.\n",
    "  # Assign new value(current outpput) to saved_output\n",
    "  with tf.control_dependencies([saved_output.assign(output),\n",
    "                                saved_state.assign(state)]):\n",
    "    # Classifier.\n",
    "    #Connect all the outputs and map the output of LSTM to predictions\n",
    "    logits = tf.nn.xw_plus_b(tf.concat(0, outputs), w, b)\n",
    "    loss = tf.reduce_mean(\n",
    "      tf.nn.softmax_cross_entropy_with_logits(\n",
    "        logits, tf.concat(0, train_labels)))\n",
    "\n",
    "  # Optimizer.\n",
    "  global_step = tf.Variable(0)\n",
    "  learning_rate = tf.train.exponential_decay(\n",
    "    10.0, global_step, 5000, 0.1, staircase=True)\n",
    "  optimizer = tf.train.GradientDescentOptimizer(learning_rate)\n",
    "  #???\n",
    "  gradients, v = zip(*optimizer.compute_gradients(loss))\n",
    "  gradients, _ = tf.clip_by_global_norm(gradients, 1.25)\n",
    "  optimizer = optimizer.apply_gradients(\n",
    "    zip(gradients, v), global_step=global_step)\n",
    "\n",
    "  # Predictions.\n",
    "  train_prediction = tf.nn.softmax(logits)\n",
    "  \n",
    "  # Sampling and validation eval: batch 1, no unrolling.\n",
    "  sample_input = tf.placeholder(tf.float32, shape=[1, vocabulary_size])\n",
    "  saved_sample_output = tf.Variable(tf.zeros([1, num_nodes]))\n",
    "  saved_sample_state = tf.Variable(tf.zeros([1, num_nodes]))\n",
    "  reset_sample_state = tf.group(\n",
    "    saved_sample_output.assign(tf.zeros([1, num_nodes])),\n",
    "    saved_sample_state.assign(tf.zeros([1, num_nodes])))\n",
    "  sample_output, sample_state = lstm_cell(\n",
    "    sample_input, saved_sample_output, saved_sample_state)\n",
    "  with tf.control_dependencies([saved_sample_output.assign(sample_output),\n",
    "                                saved_sample_state.assign(sample_state)]):\n",
    "    sample_prediction = tf.nn.softmax(tf.nn.xw_plus_b(sample_output, w, b))"
   ]
  },
  {
   "cell_type": "code",
   "execution_count": 44,
   "metadata": {
    "collapsed": false
   },
   "outputs": [
    {
     "name": "stdout",
     "output_type": "stream",
     "text": [
      "Initialized\n",
      "Average loss at step 0: 3.294983 learning rate: 10.000000\n",
      "Minibatch perplexity: 26.98\n",
      "================================================================================\n",
      "o elmufaeprsrni  yxetnafn dgiciqkbveokn mkvohaasafoib gr f nzeasnsij t cvevzrppk\n",
      "dpribkshkp bngsolay vddbeqemgkttflbiedcsqw opzdezs xg siqatop cfmhpaesjtbggnjttb\n",
      "aislneynnjea n icso tnnnamfoupcfliwhvn ohaeo  d edemrarwteobmo  sh sijackbldeapz\n",
      " te taraowzljmwf wqlebdsjgr yw   smomzfoewucenbt e eloos pa s  t hwkehejhr e wox\n",
      "afnozqnxovv eqja iszvxduak  ypupbnrt zavsdatb ot hot o rh enla  otndvgsxrapmbira\n",
      "================================================================================\n",
      "Validation set perplexity: 20.05\n",
      "Average loss at step 100: 2.576816 learning rate: 10.000000\n",
      "Minibatch perplexity: 10.55\n",
      "Validation set perplexity: 11.04\n",
      "Average loss at step 200: 2.237416 learning rate: 10.000000\n",
      "Minibatch perplexity: 8.85\n",
      "Validation set perplexity: 8.98\n",
      "Average loss at step 300: 2.100085 learning rate: 10.000000\n",
      "Minibatch perplexity: 8.07\n",
      "Validation set perplexity: 8.06\n",
      "Average loss at step 400: 2.019947 learning rate: 10.000000\n",
      "Minibatch perplexity: 7.97\n",
      "Validation set perplexity: 7.64\n",
      "Average loss at step 500: 1.951222 learning rate: 10.000000\n",
      "Minibatch perplexity: 6.83\n",
      "Validation set perplexity: 7.52\n",
      "Average loss at step 600: 1.880971 learning rate: 10.000000\n",
      "Minibatch perplexity: 5.82\n",
      "Validation set perplexity: 7.16\n",
      "Average loss at step 700: 1.830597 learning rate: 10.000000\n",
      "Minibatch perplexity: 6.32\n",
      "Validation set perplexity: 6.63\n"
     ]
    }
   ],
   "source": [
    "num_steps = 701\n",
    "summary_frequency = 100\n",
    "\n",
    "with tf.Session(graph=graph1) as session:\n",
    "  tf.initialize_all_variables().run()\n",
    "  print('Initialized')\n",
    "  mean_loss = 0\n",
    "  for step in range(num_steps):\n",
    "    batches = train_batches.next()\n",
    "    feed_dict = dict()\n",
    "    for i in range(num_unrollings + 1):\n",
    "      feed_dict[train_data[i]] = batches[i]\n",
    "    _, l, predictions, lr = session.run(\n",
    "      [optimizer, loss, train_prediction, learning_rate], feed_dict=feed_dict)\n",
    "    mean_loss += l\n",
    "    if step % summary_frequency == 0:\n",
    "      if step > 0:\n",
    "        mean_loss = mean_loss / summary_frequency\n",
    "      # The mean loss is an estimate of the loss over the last few batches.\n",
    "      print(\n",
    "        'Average loss at step %d: %f learning rate: %f' % (step, mean_loss, lr))\n",
    "      mean_loss = 0\n",
    "      labels = np.concatenate(list(batches)[1:])\n",
    "      print('Minibatch perplexity: %.2f' % float(\n",
    "        np.exp(logprob(predictions, labels))))\n",
    "      if step % (summary_frequency * 10) == 0:\n",
    "        # Generate some samples.\n",
    "        print('=' * 80)\n",
    "        for _ in range(5):\n",
    "          feed = sample(random_distribution())\n",
    "          sentence = characters(feed)[0]\n",
    "          reset_sample_state.run()\n",
    "          for _ in range(79):\n",
    "            prediction = sample_prediction.eval({sample_input: feed})\n",
    "            feed = sample(prediction)\n",
    "            sentence += characters(feed)[0]\n",
    "          print(sentence)\n",
    "        print('=' * 80)\n",
    "      # Measure validation set perplexity.\n",
    "      reset_sample_state.run()\n",
    "      valid_logprob = 0\n",
    "      for _ in range(valid_size):\n",
    "        b = valid_batches.next()\n",
    "        predictions = sample_prediction.eval({sample_input: b[0]})\n",
    "        valid_logprob = valid_logprob + logprob(predictions, b[1])\n",
    "      print('Validation set perplexity: %.2f' % float(np.exp(\n",
    "        valid_logprob / valid_size)))"
   ]
  },
  {
   "cell_type": "markdown",
   "metadata": {
    "colab_type": "text",
    "id": "4eErTCTybtph"
   },
   "source": [
    "---\n",
    "Problem 2\n",
    "---------\n",
    "\n",
    "We want to train a LSTM over bigrams, that is pairs of consecutive characters like 'ab' instead of single characters like 'a'. Since the number of possible bigrams is large, feeding them directly to the LSTM using 1-hot encodings will lead to a very sparse representation that is very wasteful computationally.\n",
    "\n",
    "a- Introduce an embedding lookup on the inputs, and feed the embeddings to the LSTM cell instead of the inputs themselves.\n",
    "\n",
    "b- Write a bigram-based LSTM, modeled on the character LSTM above.\n",
    "\n",
    "c- Introduce Dropout. For best practices on how to use Dropout in LSTMs, refer to this [article](http://arxiv.org/abs/1409.2329).\n",
    "\n",
    "---"
   ]
  },
  {
   "cell_type": "markdown",
   "metadata": {},
   "source": [
    "## Create bigram training pairs"
   ]
  },
  {
   "cell_type": "markdown",
   "metadata": {},
   "source": [
    "First, we create bigram pairs for those letter including the blank ' '."
   ]
  },
  {
   "cell_type": "code",
   "execution_count": 12,
   "metadata": {
    "collapsed": false
   },
   "outputs": [],
   "source": [
    "batch_size=128\n",
    "num_unrollings=10\n",
    "pair_size = vocabulary_size * vocabulary_size\n",
    "##creat ID for each letter pairs, for example, 'aa':0#\n",
    "def createPairDic(letter1, letter2):\n",
    "    if letter1 is None or letter2 is None:\n",
    "        print('Empty letters')\n",
    "        return None\n",
    "    pairDict = dict()\n",
    "    i = 0\n",
    "    for l in letter1:\n",
    "        for m in letter2:\n",
    "            pairDict[(l,m)] = i\n",
    "            i += 1\n",
    "    reverse_pairDict = dict(zip(pairDict.values(), pairDict.keys())) \n",
    "    return pairDict, reverse_pairDict"
   ]
  },
  {
   "cell_type": "code",
   "execution_count": 13,
   "metadata": {
    "collapsed": false
   },
   "outputs": [],
   "source": [
    "letters = string.ascii_lowercase+' '\n",
    "pairDict, reverse_pairDict = createPairDic(letters, letters)"
   ]
  },
  {
   "cell_type": "markdown",
   "metadata": {},
   "source": [
    "Now, we create a function to map letters into ID."
   ]
  },
  {
   "cell_type": "code",
   "execution_count": 14,
   "metadata": {
    "collapsed": true
   },
   "outputs": [],
   "source": [
    "#Map the character pairs into Ids\n",
    "def pair2id(pairDict, letter1, letter2):\n",
    "    if letter1 not in letters or letter2 not in letters:\n",
    "        print('Unexpected Character')\n",
    "        return None\n",
    "    return pairDict[(letter1, letter2)]\n",
    "def id2pair(reverse_pairDict, id):\n",
    "    if id<0 or id>len(reverse_pairDict)-1:\n",
    "        print('Wrong ID for Character Pair')\n",
    "        return None\n",
    "    l, m = reverse_pairDict[id]\n",
    "    return l+m"
   ]
  },
  {
   "cell_type": "code",
   "execution_count": 15,
   "metadata": {
    "collapsed": false
   },
   "outputs": [
    {
     "data": {
      "text/plain": [
       "'ae'"
      ]
     },
     "execution_count": 15,
     "metadata": {},
     "output_type": "execute_result"
    }
   ],
   "source": [
    "id2pair(reverse_pairDict, 4)"
   ]
  },
  {
   "cell_type": "code",
   "execution_count": 16,
   "metadata": {
    "collapsed": false
   },
   "outputs": [
    {
     "data": {
      "text/plain": [
       "'ons anarchists advocate social relations based upon voluntary as'"
      ]
     },
     "execution_count": 16,
     "metadata": {},
     "output_type": "execute_result"
    }
   ],
   "source": [
    "train_text[:64]"
   ]
  },
  {
   "cell_type": "markdown",
   "metadata": {},
   "source": [
    "Let's generate batches of character pairs such as 'ac', 'bv', 'cd', and the labels are like 'a', 'c', 'g'."
   ]
  },
  {
   "cell_type": "code",
   "execution_count": 17,
   "metadata": {
    "collapsed": false
   },
   "outputs": [],
   "source": [
    "class PairBatchGenerator(object):\n",
    "  def __init__(self, text, batch_size, num_unrollings):\n",
    "    self._text = text\n",
    "    self._text_size = len(text)\n",
    "    self._batch_size = batch_size\n",
    "    self._num_unrollings = num_unrollings\n",
    "    self._segment = self._text_size // batch_size\n",
    "    #Cursor stores the indice of characters in the original text\n",
    "    self._cursor = [ offset * self._segment for offset in range(batch_size)]\n",
    "    self._last_batch, self._last_label = self._next_train_label()\n",
    "    \n",
    "  def _test_cursor(self):\n",
    "    return self._cursor\n",
    "\n",
    "  def _test_segment(self):\n",
    "    return self._segment\n",
    "\n",
    "  def _next_train_label(self):\n",
    "      batch = np.zeros(shape=(self._batch_size), dtype=np.int)\n",
    "      label = np.zeros(shape=(self._batch_size, vocabulary_size), dtype=np.int)\n",
    "      #Note, first pick the ith character then then (i+segment)th character\n",
    "      for b in range(self._batch_size):\n",
    "            #Input: a pair such as 'ab'\n",
    "            letter1 = self._text[self._cursor[b]]\n",
    "            letter2 = self._text[(self._cursor[b]+1)%self._text_size]\n",
    "            batch[b] = pair2id(pairDict, letter1, letter2)\n",
    "            #Output: a letter such as 'c'\n",
    "            label[b, char2id(self._text[(self._cursor[b]+2)%self._text_size])] = 1.0\n",
    "            self._cursor[b] = (self._cursor[b] + 1) % self._text_size\n",
    "      return batch, label\n",
    " \n",
    "  def next(self):\n",
    "    \"\"\"Generate the next array of batches from the data. The array consists of\n",
    "    the last batch of the previous array, followed by num_unrollings new ones.\n",
    "    \"\"\"\n",
    "    batches = [self._last_batch]\n",
    "    labels = [self._last_label]\n",
    "    for step in range(self._num_unrollings-1):\n",
    "        batch, label = self._next_train_label()\n",
    "        batches.append(batch)\n",
    "        labels.append(label)\n",
    "    self._last_batch = batches[-1]\n",
    "    self._last_label = labels[-1]\n",
    "    return batches, labels"
   ]
  },
  {
   "cell_type": "code",
   "execution_count": 18,
   "metadata": {
    "collapsed": true
   },
   "outputs": [],
   "source": [
    "def vec2pair(probabilities):\n",
    "  \"\"\"Turn a 1-hot encoding or a probability distribution over the possible\n",
    "  characters back into its (most likely) character representation.\"\"\"\n",
    "  return [id2pair(reverse_pairDict, c) for c in np.argmax(probabilities, 1)]\n",
    "\n",
    "def pairs(batch):\n",
    "  \"\"\"Turn a code back into a pair of characters representation.\"\"\"\n",
    "  return [id2pair(reverse_pairDict, c) for c in batch]\n",
    "\n",
    "def pairs2string(batches):\n",
    "  \"\"\"Convert a sequence of batches back into their (most likely) string\n",
    "  representation.\"\"\"\n",
    "  s = [''] * batches[0].shape[0]\n",
    "  #s=''\n",
    "  for b in batches:\n",
    "    s = [''.join(x) for x in zip(s, pairs(b))]\n",
    "    #s += id2pair(reverse_pairDict,b)+','\n",
    "  return s"
   ]
  },
  {
   "cell_type": "code",
   "execution_count": 19,
   "metadata": {
    "collapsed": false
   },
   "outputs": [],
   "source": [
    "train_batches = PairBatchGenerator(train_text, batch_size, num_unrollings)\n",
    "valid_batches = PairBatchGenerator(valid_text, 1, 1)"
   ]
  },
  {
   "cell_type": "code",
   "execution_count": 20,
   "metadata": {
    "collapsed": false
   },
   "outputs": [],
   "source": [
    "batches, labels = train_batches.next()"
   ]
  },
  {
   "cell_type": "code",
   "execution_count": 21,
   "metadata": {
    "collapsed": false
   },
   "outputs": [
    {
     "name": "stdout",
     "output_type": "stream",
     "text": [
      "['s anarchis', 'mination g', 'en militar', 'hree nine ', 'eria arche', 'viated as ', 'bbeys and ', 'ing the ri', 'rried urra', 'ty upset t', 'l and rich', 'ed in the ', 'and liturg', 'isgust bec', ' opened fo', 'ciety and ', 'on from th', 'o based ch', 'gration to', 'ero zero f', 'w york oth', 'ort subjec', ' boeing se', 'ow two you', 'listed wit', ' during th', 'er has pro', 'ot dead na', 'be made to', ' s enthusi', 'r who rece', 'erates thr', 'e signific', 'ines secur', 'fierce cri', 'uel extrac', 'wo six eig', 'ure that w', 'istotle s ', 'dragas con', 'y can be l', 'ombinant r', 'nd intrace', 'nsive manu', 'on of the ', ' attack fr', ' to pass h', ' to bring ', 'certain dr', 'ench janse', ' it will t', 'on from eu', 'convince t', 'her sponta', 't told him', 'gest partn', 'paign and ', ' in a spec', 'er side st', 'in the amp', 'us texts s', 'ssignment ', 'capitalize', 'ttas franc', 'duplicate ', 'rmer is wi', ' ann es d ', 'the series', 'e january ', ' it is pos', 'ss zero th', 'worldwide ', 'l theories', 'an inch th', 't instance', 'phantom ap', 'imensional', ' pi approx', 'st holy mo', 'ce did not', 's support ', 'unteers or', 'is still d', 'end of wor', 'oscillatin', 'in its sur', 'eight subt', 'rmal cours', ' italy lan', 'of the lea', 'the tower ', 'icj report', 'ahoma pres', 'ost of the', 'prise linu', 'unning of ', ' becomes t', 'zation abo', ' in a nazi', ' accepted ', 'e fabian s', 'elp when t', 'chy to rel', ' bombs wit', 'harman net', 'ces for ka', 'ed emperor', 'ican footb', 'ng in poli', ' has been ', 'neo latin ', 'co the a s', ' risky ris', ' donna tro', 'cyclopedic', 'll definit', 'nse the ai', 'ause of co', 'ating from', 'ferent foc', 'eet grid c', 'militant u', 'ions more ', 'al compoun', 'peal of de', ' larry and', ' have made', 'luding emp']\n"
     ]
    }
   ],
   "source": [
    "print(batches2string(labels))"
   ]
  },
  {
   "cell_type": "code",
   "execution_count": 22,
   "metadata": {
    "collapsed": false
   },
   "outputs": [
    {
     "name": "stdout",
     "output_type": "stream",
     "text": [
      "['onnss  aannaarrcchhi', 'noommiinnaattiioonn ', 'whheenn  mmiilliitta', ' tthhrreeee  nniinne', 'llleerriiaa  aarrcch', 'reevviiaatteedd  aas', ' aabbbbeeyyss  aannd', 'shhiinngg  tthhee  r', 'maarrrriieedd  uurrr', 'siittyy  uuppsseett ', 'heell  aanndd  rriic', 'asseedd  iinn  tthhe', 'y  aanndd  lliittuur', ' ddiissgguusstt  bbe', 'ayy  ooppeenneedd  f', 'soocciieettyy  aannd', 'tiioonn  ffrroomm  t', 'aggoo  bbaasseedd  c', 'miiggrraattiioonn  t', ' zzeerroo  zzeerroo ', 'neeww  yyoorrkk  oot', 'shhoorrtt  ssuubbjje', 'hee  bbooeeiinngg  s', 'sggooww  ttwwoo  yyo', 'e  lliisstteedd  wwi', 'ltt  dduurriinngg  t', 'ebbeerr  hhaass  ppr', ' nnoott  ddeeaadd  n', 'o  bbee  mmaaddee  t', 'lll  ss  eenntthhuus', 'yeerr  wwhhoo  rreec', 'oppeerraatteess  tth', 'orree  ssiiggnniiffi', 'rmmiinneess  sseeccu', 'a  ffiieerrccee  ccr', ' ffuueell  eexxttrra', ' ttwwoo  ssiixx  eei', 'attuurree  tthhaatt ', 'arriissttoottllee  s', 'e  ddrraaggaass  cco', 'ittyy  ccaann  bbee ', 'eccoommbbiinnaanntt ', ' aanndd  iinnttrraac', 'teennssiivvee  mmaan', 'tiioonn  ooff  tthhe', 'hee  aattttaacckk  f', 'dyy  ttoo  ppaassss ', 'edd  ttoo  bbrriinng', 'f  cceerrttaaiinn  d', 'frreenncchh  jjaanns', 'att  iitt  wwiillll ', 'tiioonn  ffrroomm  e', 'e  ccoonnvviinnccee ', 'itthheerr  ssppoonnt', 'enntt  ttoolldd  hhi', 'arrggeesstt  ppaarrt', 'ammppaaiiggnn  aannd', 'cee  iinn  aa  ssppe', 'rvveerr  ssiiddee  s', 'gaaiinn  tthhee  aam', 'ioouuss  tteexxttss ', ' aassssiiggnnmmeennt', 'o  ccaappiittaalliiz', 'reettttaass  ffrraan', 'a  dduupplliiccaatte', 'foorrmmeerr  iiss  w', 'ghh  aannnn  eess  d', 'g  tthhee  sseerriie', 'innee  jjaannuuaarry', 'arr  iitt  iiss  ppo', 'roossss  zzeerroo  t', 's  wwoorrllddwwiidde', 'caall  tthheeoorriie', 'f  aann  iinncchh  t', 'asstt  iinnssttaannc', 'e  pphhaannttoomm  a', ' ddiimmeennssiioonna', 'ass  ppii  aapppprro', 'moosstt  hhoollyy  m', 'fiiccee  ddiidd  nno', 't  ss  ssuuppppoorrt', 'olluunntteeeerrss  o', 'u  iiss  ssttiillll ', 'e  eenndd  ooff  wwo', 'e  oosscciillllaatti', 'taaiinn  iittss  ssu', 'o  eeiigghhtt  ssuub', 'noorrmmaall  ccoouur', 'off  iittaallyy  lla', 'e  ooff  tthhee  lle', 's  tthhee  ttoowweer', 'e  iiccjj  rreeppoor', 'kllaahhoommaa  pprre', ' mmoosstt  ooff  tth', 'errpprriissee  lliin', ' rruunnnniinngg  oof', 'wss  bbeeccoommeess ', 'liizzaattiioonn  aab', 'ett  iinn  aa  nnaaz', 'eyy  aacccceepptteed', 'thhee  ffaabbiiaann ', ' hheellpp  wwhheenn ', 'ettcchhyy  ttoo  rre', 'ngg  bboommbbss  wwi', ' sshhaarrmmaann  nne', 'laacceess  ffoorr  k', 'isseedd  eemmppeerro', 'erriiccaann  ffoooot', 'tiinngg  iinn  ppool', 'ndd  hhaass  bbeeeen', 'd  nneeoo  llaattiin', 'seeccoo  tthhee  aa ', 'thh  rriisskkyy  rri', 'err  ddoonnnnaa  ttr', 'ennccyyccllooppeeddi', 'raallll  ddeeffiinni', 'feennssee  tthhee  a', 'eccaauussee  ooff  c', 'duuaattiinngg  ffrro', 'iffffeerreenntt  ffo', 'trreeeett  ggrriidd ', 'n  mmiilliittaanntt ', 'attiioonnss  mmoorre', 'ettaall  ccoommppoou', 'appppeeaall  ooff  d', 'rss  llaarrrryy  aan', 'sii  hhaavvee  mmaad', 'ncclluuddiinngg  eem']\n"
     ]
    }
   ],
   "source": [
    "print(pairs2string(batches))"
   ]
  },
  {
   "cell_type": "code",
   "execution_count": 23,
   "metadata": {
    "collapsed": false
   },
   "outputs": [],
   "source": [
    "def pair_sample_distribution(distribution):\n",
    "  \"\"\"Sample one element from a distribution assumed to be an array of normalized\n",
    "  probabilities.\n",
    "  \"\"\"\n",
    "  r = random.uniform(0, 1)\n",
    "  s = 0\n",
    "  for i in range(len(distribution)):\n",
    "    s += distribution[i]\n",
    "    if s >= r:\n",
    "      return i\n",
    "  return len(distribution) - 1\n",
    "\n",
    "def pair_sample(prediction):\n",
    "  \"\"\"Turn a (column) prediction into 1-hot encoded samples.\"\"\"\n",
    "  p = np.zeros(shape=[1, pair_size], dtype=np.float)\n",
    "  p[0, pair_sample_distribution(prediction[0])] = 1.0\n",
    "  return p\n",
    "\n",
    "def pair_random_distribution():\n",
    "  \"\"\"Generate a random column of probabilities.\"\"\"\n",
    "  b = np.random.uniform(0.0, 1.0, size=[1, pair_size])\n",
    "  return b/np.sum(b, 1)[:,None]"
   ]
  },
  {
   "cell_type": "code",
   "execution_count": 25,
   "metadata": {
    "collapsed": false
   },
   "outputs": [],
   "source": [
    "num_nodes = 64\n",
    "embedding_size = 30 # Dimension of the embedding vector.\n",
    "graph2 = tf.Graph()\n",
    "with graph2.as_default():\n",
    "  \n",
    "  # Parameters(weights):\n",
    "  # Input gate: input, previous output, and bias.\n",
    "  #weights for the input data x(t)\n",
    "  ix = tf.Variable(tf.truncated_normal([embedding_size, num_nodes], -0.1, 0.1))\n",
    "  #weights for the last output h(t-1)\n",
    "  im = tf.Variable(tf.truncated_normal([num_nodes, num_nodes], -0.1, 0.1))\n",
    "  #biase\n",
    "  ib = tf.Variable(tf.zeros([1, num_nodes]))#bias\n",
    "  # Forget gate: input, previous output, and bias.\n",
    "  #weights for the input i(t)\n",
    "  fx = tf.Variable(tf.truncated_normal([embedding_size, num_nodes], -0.1, 0.1))\n",
    "  #weights for last output h(t-1)\n",
    "  fm = tf.Variable(tf.truncated_normal([num_nodes, num_nodes], -0.1, 0.1))\n",
    "  fb = tf.Variable(tf.zeros([1, num_nodes]))\n",
    "  # Memory cell: input, state and bias.    \n",
    "  #weights for the input data x(t)\n",
    "  cx = tf.Variable(tf.truncated_normal([embedding_size, num_nodes], -0.1, 0.1))\n",
    "  #weights for the last output h(t-1)\n",
    "  cm = tf.Variable(tf.truncated_normal([num_nodes, num_nodes], -0.1, 0.1))\n",
    "  cb = tf.Variable(tf.zeros([1, num_nodes]))\n",
    "  # Output gate: input, previous output, and bias.\n",
    "  ox = tf.Variable(tf.truncated_normal([embedding_size, num_nodes], -0.1, 0.1))\n",
    "  om = tf.Variable(tf.truncated_normal([num_nodes, num_nodes], -0.1, 0.1))\n",
    "  ob = tf.Variable(tf.zeros([1, num_nodes]))\n",
    "  # Variables saving state across unrollings.\n",
    "  saved_output = tf.Variable(tf.zeros([batch_size, num_nodes]), trainable=False)\n",
    "  saved_state = tf.Variable(tf.zeros([batch_size, num_nodes]), trainable=False)\n",
    "  # Classifier weights and biases, multiply the output of LSTM cell and get the\n",
    "  # predictionss\n",
    "  w = tf.Variable(tf.truncated_normal([num_nodes, vocabulary_size], -0.1, 0.1))\n",
    "  b = tf.Variable(tf.zeros([vocabulary_size]))\n",
    "  \n",
    "  # Definition of the cell computation.\n",
    "  def lstm_cell(i, o, state):\n",
    "    \"\"\"Create a LSTM cell. See e.g.: http://arxiv.org/pdf/1402.1128v1.pdf\n",
    "    Note that in this formulation, we omit the various connections between the\n",
    "    previous state and the gates.\"\"\"\n",
    "    input_gate = tf.sigmoid(tf.matmul(i, ix) + tf.matmul(o, im) + ib)#i(t)\n",
    "    forget_gate = tf.sigmoid(tf.matmul(i, fx) + tf.matmul(o, fm) + fb)#f(t)\n",
    "    update = tf.matmul(i, cx) + tf.matmul(o, cm) + cb\n",
    "    candidate_state = tf.tanh(update) #C~(t)   \n",
    "    state = forget_gate * state + input_gate * candidate_state#C(t)\n",
    "    output_gate = tf.sigmoid(tf.matmul(i, ox) + tf.matmul(o, om) + ob)#O(t)\n",
    "    output = output_gate * tf.tanh(state)#h(t)\n",
    "    return output, state\n",
    "\n",
    "  # Input data, a list of batches of characters in the form of one-hot\n",
    "  embeddings = tf.Variable(\n",
    "    tf.random_uniform([pair_size, embedding_size], -0.1, 0.1))  \n",
    "  train_inputs = list()\n",
    "  train_labels = list()\n",
    "  for _ in range(num_unrollings):\n",
    "    #Input character pairs\n",
    "    train_inputs.append(\n",
    "      tf.placeholder(tf.int32, shape=[batch_size]))\n",
    "    #Character Labels\n",
    "    train_labels.append(tf.placeholder(tf.int32, shape=[batch_size, vocabulary_size]))\n",
    "\n",
    "  # Unrolled LSTM loop.\n",
    "  outputs = list()\n",
    "  output = saved_output\n",
    "  state = saved_state  \n",
    "  for i in train_inputs:\n",
    "    embed = tf.nn.embedding_lookup(embeddings, i)\n",
    "    output, state = lstm_cell(embed, output, state)\n",
    "    outputs.append(output)\n",
    "\n",
    "  # State saving across unrollings.\n",
    "  # Assign new value(current outpput) to saved_output\n",
    "  with tf.control_dependencies([saved_output.assign(output),\n",
    "                                saved_state.assign(state)]):\n",
    "    # Classifier.\n",
    "    #Connect all the outputs and map the output of LSTM to predictions\n",
    "    #Calculate the logits\n",
    "    logits = tf.nn.xw_plus_b(tf.concat(0, outputs), w, b)\n",
    "    #Calculate the loss\n",
    "    loss = tf.reduce_mean(\n",
    "      tf.nn.softmax_cross_entropy_with_logits(\n",
    "        logits, tf.concat(0, train_labels)))\n",
    "\n",
    "\n",
    "  # Optimizer.\n",
    "  global_step = tf.Variable(0)\n",
    "  learning_rate = tf.train.exponential_decay(\n",
    "    1.0, global_step, 1000, 0.1, staircase=True)\n",
    "  optimizer = tf.train.GradientDescentOptimizer(learning_rate)\n",
    "  #???\n",
    "  gradients, v = zip(*optimizer.compute_gradients(loss))\n",
    "  gradients, _ = tf.clip_by_global_norm(gradients, 1.25)\n",
    "  optimizer = optimizer.apply_gradients(\n",
    "    zip(gradients, v), global_step=global_step)\n",
    "\n",
    "  # Predictions.\n",
    "  train_prediction = tf.nn.softmax(logits)#The size: numnode*rollnum*embedsize\n",
    "  \n",
    "  # Sampling and validation eval: batch 1, no unrolling.\n",
    "  sample_input = tf.placeholder(tf.int32, shape=[1])#Each time input a character pair\n",
    "  embed = tf.nn.embedding_lookup(embeddings, sample_input)\n",
    "  saved_sample_output = tf.Variable(tf.zeros([1, num_nodes]))\n",
    "  saved_sample_state = tf.Variable(tf.zeros([1, num_nodes]))\n",
    "  reset_sample_state = tf.group(\n",
    "    saved_sample_output.assign(tf.zeros([1, num_nodes])),\n",
    "    saved_sample_state.assign(tf.zeros([1, num_nodes])))\n",
    "  sample_output, sample_state = lstm_cell(\n",
    "    embed, saved_sample_output, saved_sample_state)\n",
    "  with tf.control_dependencies([saved_sample_output.assign(sample_output),\n",
    "                                saved_sample_state.assign(sample_state)]):\n",
    "    sample_prediction = tf.nn.softmax(tf.nn.xw_plus_b(sample_output, w, b))"
   ]
  },
  {
   "cell_type": "code",
   "execution_count": 26,
   "metadata": {
    "collapsed": false
   },
   "outputs": [
    {
     "data": {
      "text/plain": [
       "['w']"
      ]
     },
     "execution_count": 26,
     "metadata": {},
     "output_type": "execute_result"
    }
   ],
   "source": [
    "characters(sample(random_distribution()))"
   ]
  },
  {
   "cell_type": "code",
   "execution_count": 27,
   "metadata": {
    "collapsed": false
   },
   "outputs": [
    {
     "name": "stdout",
     "output_type": "stream",
     "text": [
      "WARNING:tensorflow:From <ipython-input-27-68110e2c94e5>:4 in <module>.: initialize_all_variables (from tensorflow.python.ops.variables) is deprecated and will be removed after 2017-03-02.\n",
      "Instructions for updating:\n",
      "Use `tf.global_variables_initializer` instead.\n",
      "Initialized\n",
      "Average loss at step 0: 3.295720 learning rate: 1.000000\n",
      "Minibatch perplexity: 27.00\n",
      "================================================================================\n",
      "jnqswxowfwaiwvpmoamqlzadreqgmaorzjcdoxf ljrcmeccnioofjdmerqiwglglfcymihnnawhkihkl\n",
      "gkadszhgz qjtjgxojmqjqxffntmincoiioewf noetgswelvdnccxnkzur bwoaohoajwbssjkxq dwv\n",
      " rksvgqxoxmzriwjmjellek wxso uuaxcajnowqg jzpkqttdfpaji orxxgbkfhuntbnca rmyzkikd\n",
      "arcqxzyyuqucuthtnskiqjultaxvruvqajjjy  bvcfmscskbulhzhuhedybqqpixyanjujsepnmooqaf\n",
      "ktowgo nphcsnxzfjfkqjzj xvtknnntkwojfflplnbpuyz tgthqjxaiwvpja cmhiwjceyewmilxcof\n",
      "================================================================================\n",
      "Average loss at step 200: 2.840556 learning rate: 1.000000\n",
      "Minibatch perplexity: 14.82\n",
      "Average loss at step 400: 2.566505 learning rate: 1.000000\n",
      "Minibatch perplexity: 11.43\n",
      "Average loss at step 600: 2.341649 learning rate: 1.000000\n",
      "Minibatch perplexity: 9.78\n",
      "Average loss at step 800: 2.243043 learning rate: 1.000000\n",
      "Minibatch perplexity: 8.61\n",
      "Average loss at step 1000: 2.184154 learning rate: 0.100000\n",
      "Minibatch perplexity: 8.79\n",
      "Average loss at step 1200: 2.147808 learning rate: 0.100000\n",
      "Minibatch perplexity: 9.45\n",
      "Average loss at step 1400: 2.127725 learning rate: 0.100000\n",
      "Minibatch perplexity: 8.38\n",
      "Average loss at step 1600: 2.122826 learning rate: 0.100000\n",
      "Minibatch perplexity: 8.20\n",
      "Average loss at step 1800: 2.121376 learning rate: 0.100000\n",
      "Minibatch perplexity: 8.61\n",
      "Average loss at step 2000: 2.104189 learning rate: 0.010000\n",
      "Minibatch perplexity: 8.04\n",
      "================================================================================\n",
      "iberoetiveliutibaddishesto onpsenting wiaten reanglyro fittemum anpdd ing hosm li\n",
      "jodareed the fort jutiihs ssishin to thie fipmatgene in the sizereos mactrand dod\n",
      "jdums in two povhre sey svp bligte comcodaraledlias al intoul to ley ang zerten t\n",
      "mto nesedios sbleth of the rerast regine greesld sse inhibk one the proveriby jor\n",
      "vmorke lunpreendipasteittesd ertets dirawlec alle sive fanibero ur tive untaakinl\n",
      "================================================================================\n",
      "Average loss at step 2200: 2.096842 learning rate: 0.010000\n",
      "Minibatch perplexity: 8.33\n",
      "Average loss at step 2400: 2.113719 learning rate: 0.010000\n",
      "Minibatch perplexity: 8.31\n",
      "Average loss at step 2600: 2.091535 learning rate: 0.010000\n",
      "Minibatch perplexity: 8.28\n",
      "Average loss at step 2800: 2.118132 learning rate: 0.010000\n",
      "Minibatch perplexity: 8.22\n",
      "Average loss at step 3000: 2.116146 learning rate: 0.001000\n",
      "Minibatch perplexity: 8.72\n",
      "Average loss at step 3200: 2.112946 learning rate: 0.001000\n",
      "Minibatch perplexity: 8.09\n",
      "Average loss at step 3400: 2.101945 learning rate: 0.001000\n",
      "Minibatch perplexity: 7.84\n",
      "Average loss at step 3600: 2.101181 learning rate: 0.001000\n",
      "Minibatch perplexity: 7.88\n",
      "Average loss at step 3800: 2.120955 learning rate: 0.001000\n",
      "Minibatch perplexity: 7.55\n",
      "Average loss at step 4000: 2.116250 learning rate: 0.000100\n",
      "Minibatch perplexity: 7.98\n",
      "================================================================================\n",
      "zonp ushems to sime siugat inso a rut hecvriullelkariagsr xt onht onfeuse waridot\n",
      "npuaoan siswithor mliving werla nobcly the acnranurso jyyepak wers came zercy osh\n",
      "nbmnmerm ciymclrs dolimasal swachas alrantent on thate reniticidiuk tiocw n oteri\n",
      "rteratiiudian bes deto vbauttoeturle nin one shernochel infand to to noaw hoce ho\n",
      "ssenagan the zere bgiblee hant a shooce used witao celpaslid onuislicich mefiverr\n",
      "================================================================================\n",
      "Average loss at step 4200: 2.113675 learning rate: 0.000100\n",
      "Minibatch perplexity: 7.99\n",
      "Average loss at step 4400: 2.115579 learning rate: 0.000100\n",
      "Minibatch perplexity: 7.53\n",
      "Average loss at step 4600: 2.122080 learning rate: 0.000100\n",
      "Minibatch perplexity: 7.88\n",
      "Average loss at step 4800: 2.112135 learning rate: 0.000100\n",
      "Minibatch perplexity: 8.34\n",
      "Average loss at step 5000: 2.102259 learning rate: 0.000010\n",
      "Minibatch perplexity: 8.56\n",
      "Average loss at step 5200: 2.109191 learning rate: 0.000010\n",
      "Minibatch perplexity: 7.92\n",
      "Average loss at step 5400: 2.114073 learning rate: 0.000010\n",
      "Minibatch perplexity: 8.32\n",
      "Average loss at step 5600: 2.103463 learning rate: 0.000010\n",
      "Minibatch perplexity: 7.87\n",
      "Average loss at step 5800: 2.123309 learning rate: 0.000010\n",
      "Minibatch perplexity: 8.90\n",
      "Average loss at step 6000: 2.103652 learning rate: 0.000001\n",
      "Minibatch perplexity: 8.57\n",
      "================================================================================\n",
      "rther noperea wil of the wat th gigosty eralrhn ogacs one fist afhotian myall an \n",
      "plepge it har who om molctanled laws sheven bwaryss maoinbj unbers mage twree is \n",
      "vkooned ad its helsarey nicoms the zere duict whotine the as two zaver mocacil on\n",
      "ijp here uren euia yeto wat nilotias onelunreood acalhin twhe and eiturts one it \n",
      "cubplwrarion sijred tor the nek cres and asiderie to thrree hell led ofg unisfami\n",
      "================================================================================\n",
      "Average loss at step 6200: 2.113201 learning rate: 0.000001\n",
      "Minibatch perplexity: 8.64\n",
      "Average loss at step 6400: 2.115326 learning rate: 0.000001\n",
      "Minibatch perplexity: 7.84\n",
      "Average loss at step 6600: 2.112545 learning rate: 0.000001\n",
      "Minibatch perplexity: 7.90\n",
      "Average loss at step 6800: 2.108282 learning rate: 0.000001\n",
      "Minibatch perplexity: 8.86\n",
      "Average loss at step 7000: 2.113628 learning rate: 0.000000\n",
      "Minibatch perplexity: 7.99\n",
      "Average loss at step 7200: 2.102726 learning rate: 0.000000\n",
      "Minibatch perplexity: 8.61\n",
      "Average loss at step 7400: 2.119239 learning rate: 0.000000\n",
      "Minibatch perplexity: 8.46\n",
      "Average loss at step 7600: 2.118148 learning rate: 0.000000\n",
      "Minibatch perplexity: 8.12\n",
      "Average loss at step 7800: 2.109319 learning rate: 0.000000\n",
      "Minibatch perplexity: 8.55\n",
      "Average loss at step 8000: 2.099160 learning rate: 0.000000\n",
      "Minibatch perplexity: 7.95\n",
      "================================================================================\n",
      " hax if twexe colighted to the poettk lis lees cumundicmto and rexslre an other n\n",
      "ider wictuaain fadire this pcy inpcal the one ning thes it rof nine a fouk siry o\n",
      "ptysshere duuame the zern sam ecitubligonrebocpk mes sagern ars aums mive sinned \n",
      "xdetion to gote epolhuso condistlplitly th bigtosd biian an of cxlmage wemtion su\n",
      "amesis to one nife one nabess muzs andilost to than to elver in usacced the pan z\n",
      "================================================================================\n"
     ]
    }
   ],
   "source": [
    "num_steps = 8001\n",
    "summary_frequency = 200\n",
    "with tf.Session(graph=graph2) as session:\n",
    "  tf.initialize_all_variables().run()\n",
    "  print('Initialized')\n",
    "  mean_loss = 0\n",
    "  for step in range(num_steps):\n",
    "    batches, labels = train_batches.next()\n",
    "    feed_dict = dict()\n",
    "    for i in range(num_unrollings):\n",
    "      feed_dict[train_inputs[i]] = batches[i]\n",
    "      feed_dict[train_labels[i]] = labels[i]\n",
    "    _, l, predictions, lr = session.run(\n",
    "      [optimizer, loss, train_prediction, learning_rate], feed_dict=feed_dict)\n",
    "    mean_loss += l\n",
    "    if step % summary_frequency == 0:\n",
    "      if step > 0:\n",
    "        mean_loss = mean_loss / summary_frequency\n",
    "      # The mean loss is an estimate of the loss over the last few batches.\n",
    "      print(\n",
    "        'Average loss at step %d: %f learning rate: %f' % (step, mean_loss, lr))\n",
    "\n",
    "      mean_loss = 0\n",
    "      labels = np.concatenate(labels)\n",
    "      print('Minibatch perplexity: %.2f' % float(\n",
    "        np.exp(logprob(predictions, labels))))\n",
    "    \n",
    "      if step % (summary_frequency * 10) == 0:\n",
    "        # Generate some samples.\n",
    "        print('=' * 80)\n",
    "        for _ in range(5):\n",
    "          #Generate a character pair randomly\n",
    "          feed = np.random.choice(range(pair_size))#Select an id randomly\n",
    "          sentence = id2pair(reverse_pairDict, feed)#Map it into a pair\n",
    "          reset_sample_state.run()\n",
    "          for _ in range(79):\n",
    "            feed = np.array([feed])\n",
    "            prediction = sample_prediction.eval({sample_input: feed})\n",
    "            char = characters(sample(prediction))[0]#Map the prediction into a character\n",
    "            feed = pair2id(pairDict, sentence[-1], char)#Next pair\n",
    "            #feed = sample(prediction)\n",
    "            sentence += char\n",
    "          print(sentence)\n",
    "        print('=' * 80)\n",
    "      # Measure validation set perplexity.\n",
    "      #reset_sample_state.run()\n",
    "      #valid_logprob = 0\n",
    "      #for _ in range(valid_size):\n",
    "       # b = valid_batches.next()\n",
    "        #predictions = sample_prediction.eval({sample_input: b[0]})\n",
    "        #valid_logprob = valid_logprob + logprob(predictions, b[1])\n",
    "     # print('Validation set perplexity: %.2f' % float(np.exp(\n",
    "        #valid_logprob / valid_size)))\n"
   ]
  },
  {
   "cell_type": "markdown",
   "metadata": {
    "colab_type": "text",
    "id": "Y5tapX3kpcqZ"
   },
   "source": [
    "---\n",
    "Problem 3\n",
    "---------\n",
    "\n",
    "(difficult!)\n",
    "\n",
    "Write a sequence-to-sequence LSTM which mirrors all the words in a sentence. For example, if your input is:\n",
    "\n",
    "    the quick brown fox\n",
    "    \n",
    "the model should attempt to output:\n",
    "\n",
    "    eht kciuq nworb xof\n",
    "    \n",
    "Refer to the lecture on how to put together a sequence-to-sequence model, as well as [this article](http://arxiv.org/abs/1409.3215) for best practices.\n",
    "\n",
    "---"
   ]
  }
 ],
 "metadata": {
  "anaconda-cloud": {},
  "colab": {
   "default_view": {},
   "name": "6_lstm.ipynb",
   "provenance": [],
   "version": "0.3.2",
   "views": {}
  },
  "kernelspec": {
   "display_name": "Python [tensorflow]",
   "language": "python",
   "name": "Python [tensorflow]"
  },
  "language_info": {
   "codemirror_mode": {
    "name": "ipython",
    "version": 3
   },
   "file_extension": ".py",
   "mimetype": "text/x-python",
   "name": "python",
   "nbconvert_exporter": "python",
   "pygments_lexer": "ipython3",
   "version": "3.5.2"
  }
 },
 "nbformat": 4,
 "nbformat_minor": 0
}
